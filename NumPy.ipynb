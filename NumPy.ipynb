{
  "nbformat": 4,
  "nbformat_minor": 0,
  "metadata": {
    "colab": {
      "name": "NumPy.ipynb",
      "provenance": [],
      "authorship_tag": "ABX9TyOxwE+X4uwdPh1dhmpIr3V+",
      "include_colab_link": true
    },
    "kernelspec": {
      "name": "python3",
      "display_name": "Python 3"
    },
    "language_info": {
      "name": "python"
    }
  },
  "cells": [
    {
      "cell_type": "markdown",
      "metadata": {
        "id": "view-in-github",
        "colab_type": "text"
      },
      "source": [
        "<a href=\"https://colab.research.google.com/github/vikasvr1997/Python_Examples_for_Learing/blob/main/NumPy.ipynb\" target=\"_parent\"><img src=\"https://colab.research.google.com/assets/colab-badge.svg\" alt=\"Open In Colab\"/></a>"
      ]
    },
    {
      "cell_type": "code",
      "execution_count": 1,
      "metadata": {
        "id": "PqxPLL1Wf5R-"
      },
      "outputs": [],
      "source": [
        "import numpy as np\n",
        "import sys"
      ]
    },
    {
      "cell_type": "markdown",
      "source": [
        "we use numpy instead of lists because they occupy less space and have more features compared to list like lists cannot be multiplied, whereas numpy can be multiplied\n",
        "numpy is replacement of matlab \n",
        "used in plotting\n",
        "core component of pandas "
      ],
      "metadata": {
        "id": "0BtnUwtmjmBV"
      }
    },
    {
      "cell_type": "code",
      "source": [
        "a = np.array([1,2,3],np.int8)\n"
      ],
      "metadata": {
        "id": "kfgD3Yb-imEi"
      },
      "execution_count": 2,
      "outputs": []
    },
    {
      "cell_type": "code",
      "source": [
        "a"
      ],
      "metadata": {
        "colab": {
          "base_uri": "https://localhost:8080/"
        },
        "id": "utP_6xWFkVHz",
        "outputId": "cfa7218d-5e03-4ff7-d427-db54bedca2e0"
      },
      "execution_count": 3,
      "outputs": [
        {
          "output_type": "execute_result",
          "data": {
            "text/plain": [
              "array([1, 2, 3], dtype=int8)"
            ]
          },
          "metadata": {},
          "execution_count": 3
        }
      ]
    },
    {
      "cell_type": "code",
      "source": [
        "print(a)"
      ],
      "metadata": {
        "colab": {
          "base_uri": "https://localhost:8080/"
        },
        "id": "8EO4klHvktHi",
        "outputId": "3187f2f4-e604-4ea9-b435-6e3b9c29f2b0"
      },
      "execution_count": 4,
      "outputs": [
        {
          "output_type": "stream",
          "name": "stdout",
          "text": [
            "[1 2 3]\n"
          ]
        }
      ]
    },
    {
      "cell_type": "code",
      "source": [
        "b = np.array([[1.2,3.4,5.0,5.0],[2.0,3.0,4.0,5.0]],np.int8)\n",
        "c = np.array([[1,2,3,4,5,6,7,8],[1.0,2.0,5.6,8.9,6,7,9,2]])"
      ],
      "metadata": {
        "id": "K43Vgigjkvyk"
      },
      "execution_count": 5,
      "outputs": []
    },
    {
      "cell_type": "code",
      "source": [
        "# Get Dimension\n",
        "a.ndim\n",
        "b.ndim"
      ],
      "metadata": {
        "colab": {
          "base_uri": "https://localhost:8080/"
        },
        "id": "zawH4mollak5",
        "outputId": "bad1c7f3-048f-449b-908f-1f6ca13ecb06"
      },
      "execution_count": 6,
      "outputs": [
        {
          "output_type": "execute_result",
          "data": {
            "text/plain": [
              "2"
            ]
          },
          "metadata": {},
          "execution_count": 6
        }
      ]
    },
    {
      "cell_type": "code",
      "source": [
        "#get shape : provides shape of the matrix array\n",
        "b.shape\n"
      ],
      "metadata": {
        "colab": {
          "base_uri": "https://localhost:8080/"
        },
        "id": "l2dLiOWulwPG",
        "outputId": "de942d7f-0893-4553-c42d-656e85d253f9"
      },
      "execution_count": 7,
      "outputs": [
        {
          "output_type": "execute_result",
          "data": {
            "text/plain": [
              "(2, 4)"
            ]
          },
          "metadata": {},
          "execution_count": 7
        }
      ]
    },
    {
      "cell_type": "markdown",
      "source": [
        "to know the memory the numpy array is using we use below functions called by function x.dtype"
      ],
      "metadata": {
        "id": "JqVJwGV7mIWy"
      }
    },
    {
      "cell_type": "code",
      "source": [
        "a.dtype"
      ],
      "metadata": {
        "colab": {
          "base_uri": "https://localhost:8080/"
        },
        "id": "7FTG-N6el_pH",
        "outputId": "71bac922-3fc4-4c25-8074-107e340d06a5"
      },
      "execution_count": 8,
      "outputs": [
        {
          "output_type": "execute_result",
          "data": {
            "text/plain": [
              "dtype('int8')"
            ]
          },
          "metadata": {},
          "execution_count": 8
        }
      ]
    },
    {
      "cell_type": "code",
      "source": [
        "b.dtype"
      ],
      "metadata": {
        "colab": {
          "base_uri": "https://localhost:8080/"
        },
        "id": "K2fehE-rmoJP",
        "outputId": "ca191dc4-54f2-47af-a59f-7ed7ca902bf2"
      },
      "execution_count": 9,
      "outputs": [
        {
          "output_type": "execute_result",
          "data": {
            "text/plain": [
              "dtype('int8')"
            ]
          },
          "metadata": {},
          "execution_count": 9
        }
      ]
    },
    {
      "cell_type": "code",
      "source": [
        "# get size of the memory in bytes\n",
        "c.itemsize"
      ],
      "metadata": {
        "colab": {
          "base_uri": "https://localhost:8080/"
        },
        "id": "HmUpge70mxm1",
        "outputId": "b98ae540-484f-4ce8-b38b-7eaa3697539b"
      },
      "execution_count": 10,
      "outputs": [
        {
          "output_type": "execute_result",
          "data": {
            "text/plain": [
              "8"
            ]
          },
          "metadata": {},
          "execution_count": 10
        }
      ]
    },
    {
      "cell_type": "code",
      "source": [
        "# Get Total Size\n",
        "#b.size\n"
      ],
      "metadata": {
        "id": "kdDpu_kunK77"
      },
      "execution_count": 11,
      "outputs": []
    },
    {
      "cell_type": "markdown",
      "source": [
        "# accessing specific elements, rows , and columns\n"
      ],
      "metadata": {
        "id": "-HaRcNumnl7H"
      }
    },
    {
      "cell_type": "code",
      "source": [
        "a = np.array([[1,2,3,4,5,6,7,8],[9,10,11,12,13,14,15,16]], np.int16)\n",
        "print(a)"
      ],
      "metadata": {
        "colab": {
          "base_uri": "https://localhost:8080/"
        },
        "id": "5xotK5lyn8cj",
        "outputId": "5c210f6a-38d1-44a5-d8b7-d6098112eb18"
      },
      "execution_count": 12,
      "outputs": [
        {
          "output_type": "stream",
          "name": "stdout",
          "text": [
            "[[ 1  2  3  4  5  6  7  8]\n",
            " [ 9 10 11 12 13 14 15 16]]\n"
          ]
        }
      ]
    },
    {
      "cell_type": "markdown",
      "source": [
        "Syntax: numpy.shape(array_name) \n",
        "Parameters: Array is passed as a Parameter. \n",
        "Return: A tuple whose elements give the lengths of the corresponding array dimensions. "
      ],
      "metadata": {
        "id": "Co6W0YJXor8e"
      }
    },
    {
      "cell_type": "code",
      "source": [
        "np.shape(b)"
      ],
      "metadata": {
        "colab": {
          "base_uri": "https://localhost:8080/"
        },
        "id": "8IE-1zpUoW6P",
        "outputId": "0d484015-b43e-4fbc-e140-e266d6459a04"
      },
      "execution_count": 13,
      "outputs": [
        {
          "output_type": "execute_result",
          "data": {
            "text/plain": [
              "(2, 4)"
            ]
          },
          "metadata": {},
          "execution_count": 13
        }
      ]
    },
    {
      "cell_type": "code",
      "source": [
        "# get specific element [r,c] -> in the next line of code we get to see that we will cal on a specific element in a array\n",
        "a[1,4]"
      ],
      "metadata": {
        "colab": {
          "base_uri": "https://localhost:8080/"
        },
        "id": "yreXRMk5o25_",
        "outputId": "3c599092-7602-477d-a18d-2f74b9c05d1a"
      },
      "execution_count": 14,
      "outputs": [
        {
          "output_type": "execute_result",
          "data": {
            "text/plain": [
              "13"
            ]
          },
          "metadata": {},
          "execution_count": 14
        }
      ]
    },
    {
      "cell_type": "code",
      "source": [
        "# get specific row \n",
        "a[0,:]"
      ],
      "metadata": {
        "colab": {
          "base_uri": "https://localhost:8080/"
        },
        "id": "vngtnT79pa6V",
        "outputId": "4dffe527-0c42-43d0-8d65-7038d28e011b"
      },
      "execution_count": 15,
      "outputs": [
        {
          "output_type": "execute_result",
          "data": {
            "text/plain": [
              "array([1, 2, 3, 4, 5, 6, 7, 8], dtype=int16)"
            ]
          },
          "metadata": {},
          "execution_count": 15
        }
      ]
    },
    {
      "cell_type": "code",
      "source": [
        "# similar to column\n",
        "a[:,1]"
      ],
      "metadata": {
        "colab": {
          "base_uri": "https://localhost:8080/"
        },
        "id": "yY2hquV2pq7P",
        "outputId": "11f0b5ab-5704-4225-c250-ab42c7a644cd"
      },
      "execution_count": 16,
      "outputs": [
        {
          "output_type": "execute_result",
          "data": {
            "text/plain": [
              "array([ 2, 10], dtype=int16)"
            ]
          },
          "metadata": {},
          "execution_count": 16
        }
      ]
    },
    {
      "cell_type": "code",
      "source": [
        "#  getting a index in more fancy way [start index: end index: step size]\n",
        "x = a[0,1:7:2]# here we need to understand that in an array a = np.array([[1,2,3,4,5,6,7,8],[9,10,11,12,13,14,15,16]]), such that  a[first row,second element : last element : steppimg it by 2]\n",
        "# note: never use -2 in index stepping as if you are checking from starting then it can display an empty list so edit the start and end index with negative calls\n",
        "print(x)"
      ],
      "metadata": {
        "colab": {
          "base_uri": "https://localhost:8080/"
        },
        "id": "qXFvitx9p1sb",
        "outputId": "534eb8f4-6370-4fbe-ba20-091b5c18bd45"
      },
      "execution_count": 17,
      "outputs": [
        {
          "output_type": "stream",
          "name": "stdout",
          "text": [
            "[2 4 6]\n"
          ]
        }
      ]
    },
    {
      "cell_type": "code",
      "source": [
        "# change element in a particular position\n",
        "a[1,4] = 23"
      ],
      "metadata": {
        "id": "ZWO_XQVfrDyf"
      },
      "execution_count": 18,
      "outputs": []
    },
    {
      "cell_type": "markdown",
      "source": [
        "3-D example"
      ],
      "metadata": {
        "id": "EOJU1LLWtBcZ"
      }
    },
    {
      "cell_type": "code",
      "source": [
        "a = np.array([[[1,2],[2,4]],[[4,6],[5,7]]],np.int16)\n",
        "print(a)"
      ],
      "metadata": {
        "colab": {
          "base_uri": "https://localhost:8080/"
        },
        "id": "9iu5L3MEswP5",
        "outputId": "c5a20e4e-fc32-49a3-91f1-10ef7df4a38c"
      },
      "execution_count": 19,
      "outputs": [
        {
          "output_type": "stream",
          "name": "stdout",
          "text": [
            "[[[1 2]\n",
            "  [2 4]]\n",
            "\n",
            " [[4 6]\n",
            "  [5 7]]]\n"
          ]
        }
      ]
    },
    {
      "cell_type": "code",
      "source": [
        "# get specific element(work in specific in )\n",
        "a[0,1,0]# here we are selecting an element from first inner list, then selecting second innner-inner list, then the element position is specified at last \n",
        "# changing each position will cause a different effect for the matrix"
      ],
      "metadata": {
        "colab": {
          "base_uri": "https://localhost:8080/"
        },
        "id": "VFztplyotnt_",
        "outputId": "60ebd352-c469-4a89-a671-ce8b07cffd0c"
      },
      "execution_count": 20,
      "outputs": [
        {
          "output_type": "execute_result",
          "data": {
            "text/plain": [
              "2"
            ]
          },
          "metadata": {},
          "execution_count": 20
        }
      ]
    },
    {
      "cell_type": "code",
      "source": [
        "a[:,1,:] = [[9,9],[8,8]]\n"
      ],
      "metadata": {
        "id": "VDxE1Fz4uVz-"
      },
      "execution_count": 21,
      "outputs": []
    },
    {
      "cell_type": "code",
      "source": [
        "a\n"
      ],
      "metadata": {
        "colab": {
          "base_uri": "https://localhost:8080/"
        },
        "id": "OxFj3Hguu2eW",
        "outputId": "8100b3c9-8ea4-492a-daa1-98c412275b03"
      },
      "execution_count": 22,
      "outputs": [
        {
          "output_type": "execute_result",
          "data": {
            "text/plain": [
              "array([[[1, 2],\n",
              "        [9, 9]],\n",
              "\n",
              "       [[4, 6],\n",
              "        [8, 8]]], dtype=int16)"
            ]
          },
          "metadata": {},
          "execution_count": 22
        }
      ]
    },
    {
      "cell_type": "markdown",
      "source": [
        "# Initialize different types of variables"
      ],
      "metadata": {
        "id": "PPG287aUu9IM"
      }
    },
    {
      "cell_type": "code",
      "source": [
        "# all 0 matrix\n",
        "np.zeros((2,3,3))"
      ],
      "metadata": {
        "colab": {
          "base_uri": "https://localhost:8080/"
        },
        "id": "kn2THtiUu8QW",
        "outputId": "9a891d56-64d8-410a-82f7-c9d53f673b73"
      },
      "execution_count": 23,
      "outputs": [
        {
          "output_type": "execute_result",
          "data": {
            "text/plain": [
              "array([[[0., 0., 0.],\n",
              "        [0., 0., 0.],\n",
              "        [0., 0., 0.]],\n",
              "\n",
              "       [[0., 0., 0.],\n",
              "        [0., 0., 0.],\n",
              "        [0., 0., 0.]]])"
            ]
          },
          "metadata": {},
          "execution_count": 23
        }
      ]
    },
    {
      "cell_type": "code",
      "source": [
        "# all 1s IN a matrix\n",
        "np.ones((2,4,4),np.int16)"
      ],
      "metadata": {
        "colab": {
          "base_uri": "https://localhost:8080/"
        },
        "id": "7WLZWhnSvwp1",
        "outputId": "bd90f507-311b-4b3a-c769-dec6daf8cee2"
      },
      "execution_count": 24,
      "outputs": [
        {
          "output_type": "execute_result",
          "data": {
            "text/plain": [
              "array([[[1, 1, 1, 1],\n",
              "        [1, 1, 1, 1],\n",
              "        [1, 1, 1, 1],\n",
              "        [1, 1, 1, 1]],\n",
              "\n",
              "       [[1, 1, 1, 1],\n",
              "        [1, 1, 1, 1],\n",
              "        [1, 1, 1, 1],\n",
              "        [1, 1, 1, 1]]], dtype=int16)"
            ]
          },
          "metadata": {},
          "execution_count": 24
        }
      ]
    },
    {
      "cell_type": "code",
      "source": [
        "np.full((2,2),99)"
      ],
      "metadata": {
        "colab": {
          "base_uri": "https://localhost:8080/"
        },
        "id": "iDHx3lZJwEQ7",
        "outputId": "0138d812-155e-4279-95d1-8eff1cba43c8"
      },
      "execution_count": 25,
      "outputs": [
        {
          "output_type": "execute_result",
          "data": {
            "text/plain": [
              "array([[99, 99],\n",
              "       [99, 99]])"
            ]
          },
          "metadata": {},
          "execution_count": 25
        }
      ]
    },
    {
      "cell_type": "code",
      "source": [
        "# array full Like any other number (full_like)\n",
        "np.full_like(a,4)"
      ],
      "metadata": {
        "colab": {
          "base_uri": "https://localhost:8080/"
        },
        "id": "TtpLr5OCweRS",
        "outputId": "8b69d641-d1e0-4f44-aef0-a0b11d3c4d14"
      },
      "execution_count": 26,
      "outputs": [
        {
          "output_type": "execute_result",
          "data": {
            "text/plain": [
              "array([[[4, 4],\n",
              "        [4, 4]],\n",
              "\n",
              "       [[4, 4],\n",
              "        [4, 4]]], dtype=int16)"
            ]
          },
          "metadata": {},
          "execution_count": 26
        }
      ]
    },
    {
      "cell_type": "code",
      "source": [
        "# Random decimal numbers\n",
        "np.random.rand(4,2)"
      ],
      "metadata": {
        "colab": {
          "base_uri": "https://localhost:8080/"
        },
        "id": "F_HN7XPTw6tQ",
        "outputId": "3cce6592-b015-4c0d-d023-eced2d8e418c"
      },
      "execution_count": 27,
      "outputs": [
        {
          "output_type": "execute_result",
          "data": {
            "text/plain": [
              "array([[0.11960346, 0.87506797],\n",
              "       [0.31574977, 0.28992718],\n",
              "       [0.19434146, 0.86420242],\n",
              "       [0.40726581, 0.66205828]])"
            ]
          },
          "metadata": {},
          "execution_count": 27
        }
      ]
    },
    {
      "cell_type": "code",
      "source": [
        "# is a.shape is to be passed then the statement changes\n",
        "np.random.random_sample(a.shape)"
      ],
      "metadata": {
        "colab": {
          "base_uri": "https://localhost:8080/"
        },
        "id": "XRJwParlxUpn",
        "outputId": "84e215b4-dd9f-4760-a1ff-dc0173a033ed"
      },
      "execution_count": 28,
      "outputs": [
        {
          "output_type": "execute_result",
          "data": {
            "text/plain": [
              "array([[[0.01225522, 0.81728359],\n",
              "        [0.27490756, 0.12307034]],\n",
              "\n",
              "       [[0.22854287, 0.58453193],\n",
              "        [0.33489611, 0.3725654 ]]])"
            ]
          },
          "metadata": {},
          "execution_count": 28
        }
      ]
    },
    {
      "cell_type": "code",
      "source": [
        "# random integers np.random.randint(max number , size = (r,c)of matrix)\n",
        "np.random.randint(12,size=(3,4))"
      ],
      "metadata": {
        "colab": {
          "base_uri": "https://localhost:8080/"
        },
        "id": "invgFonBxq9S",
        "outputId": "3d53e373-438d-406b-9043-9cc9f7596432"
      },
      "execution_count": 29,
      "outputs": [
        {
          "output_type": "execute_result",
          "data": {
            "text/plain": [
              "array([[6, 4, 5, 3],\n",
              "       [1, 8, 0, 5],\n",
              "       [7, 9, 4, 4]])"
            ]
          },
          "metadata": {},
          "execution_count": 29
        }
      ]
    },
    {
      "cell_type": "code",
      "source": [
        "np.random.randint(4,12,size=(3,4))#random values from 4 - 12 "
      ],
      "metadata": {
        "id": "boQMMxuizWxH",
        "outputId": "363c7902-d4dc-443c-bfa7-f90c41078cb5",
        "colab": {
          "base_uri": "https://localhost:8080/"
        }
      },
      "execution_count": 30,
      "outputs": [
        {
          "output_type": "execute_result",
          "data": {
            "text/plain": [
              "array([[10,  9, 10,  7],\n",
              "       [ 6,  6,  8,  9],\n",
              "       [ 5,  5,  7,  6]])"
            ]
          },
          "metadata": {},
          "execution_count": 30
        }
      ]
    },
    {
      "cell_type": "code",
      "source": [
        "# here we are getting an arary repeated 3 times in rows axi=0 means columns if we keep it 1 then it will be in form of [[1,1,1,2,2,2,3,3,3]]\n",
        "arr = np.array([[1,2,3]])\n",
        "r1 = np.repeat(arr,3, axis = 0)\n",
        "r1"
      ],
      "metadata": {
        "id": "uMgHBnfCznRk",
        "outputId": "ff711dc0-06a6-4333-eed7-eb1f9ea8ccef",
        "colab": {
          "base_uri": "https://localhost:8080/"
        }
      },
      "execution_count": 32,
      "outputs": [
        {
          "output_type": "execute_result",
          "data": {
            "text/plain": [
              "array([[1, 2, 3],\n",
              "       [1, 2, 3],\n",
              "       [1, 2, 3]])"
            ]
          },
          "metadata": {},
          "execution_count": 32
        }
      ]
    },
    {
      "cell_type": "code",
      "source": [
        "output = np.ones((5,5))\n",
        "print(output)\n",
        "\n",
        "\n",
        "z = np.zeros((3,3))\n",
        "#print(z)\n",
        "\n",
        "z[1,1] = 9\n",
        "print(z)\n",
        "#here comes the next step is such that we take on specific rows and columns we want to replace with below code\n",
        "output[1:4,1:4] = z"
      ],
      "metadata": {
        "id": "FunLy9Dj1Jd1",
        "outputId": "3d98d35f-925f-48ca-ef91-b3e5b01789e3",
        "colab": {
          "base_uri": "https://localhost:8080/"
        }
      },
      "execution_count": 39,
      "outputs": [
        {
          "output_type": "stream",
          "name": "stdout",
          "text": [
            "[[1. 1. 1. 1. 1.]\n",
            " [1. 1. 1. 1. 1.]\n",
            " [1. 1. 1. 1. 1.]\n",
            " [1. 1. 1. 1. 1.]\n",
            " [1. 1. 1. 1. 1.]]\n",
            "[[0. 0. 0.]\n",
            " [0. 9. 0.]\n",
            " [0. 0. 0.]]\n"
          ]
        }
      ]
    },
    {
      "cell_type": "code",
      "source": [
        "print(output)"
      ],
      "metadata": {
        "id": "C-oL1oXy2onp",
        "outputId": "bea643c1-f415-4d1f-b3cf-019962b3ae74",
        "colab": {
          "base_uri": "https://localhost:8080/"
        }
      },
      "execution_count": 40,
      "outputs": [
        {
          "output_type": "stream",
          "name": "stdout",
          "text": [
            "[[1. 1. 1. 1. 1.]\n",
            " [1. 0. 0. 0. 1.]\n",
            " [1. 0. 9. 0. 1.]\n",
            " [1. 0. 0. 0. 1.]\n",
            " [1. 1. 1. 1. 1.]]\n"
          ]
        }
      ]
    },
    {
      "cell_type": "code",
      "source": [
        "#if you assign a array to another then changes in another array will reflect in the original array, inorder to copy we use Copy function\n",
        "x = np.array([1,2,3])\n",
        "y = x\n",
        "\n",
        "y[0] = 100\n",
        "print(y)"
      ],
      "metadata": {
        "id": "ZLcMbayQ2s9V",
        "outputId": "64a7ecb6-6307-4790-c662-1853c78d51f8",
        "colab": {
          "base_uri": "https://localhost:8080/"
        }
      },
      "execution_count": 42,
      "outputs": [
        {
          "output_type": "stream",
          "name": "stdout",
          "text": [
            "[100   2   3]\n"
          ]
        }
      ]
    },
    {
      "cell_type": "code",
      "source": [
        "x = np.array([1,2,3])\n",
        "y = x.copy()\n",
        "\n",
        "y[0] = 100\n",
        "print(y)\n",
        "print(x)"
      ],
      "metadata": {
        "id": "xG9DtB3333qE",
        "outputId": "807786f3-d0d3-4b21-9f2e-6fdff8771ee5",
        "colab": {
          "base_uri": "https://localhost:8080/"
        }
      },
      "execution_count": 44,
      "outputs": [
        {
          "output_type": "stream",
          "name": "stdout",
          "text": [
            "[100   2   3]\n",
            "[1 2 3]\n"
          ]
        }
      ]
    },
    {
      "cell_type": "markdown",
      "source": [
        "# Mathematics"
      ],
      "metadata": {
        "id": "19cs-3Ww4qF3"
      }
    },
    {
      "cell_type": "code",
      "source": [
        "a = np.array([1,2,3,4])\n",
        "print(a)"
      ],
      "metadata": {
        "id": "AXmHsV-R4TZW",
        "outputId": "90904a07-111b-45a7-a1b6-fad9eb30f749",
        "colab": {
          "base_uri": "https://localhost:8080/"
        }
      },
      "execution_count": 45,
      "outputs": [
        {
          "output_type": "stream",
          "name": "stdout",
          "text": [
            "[1 2 3 4]\n"
          ]
        }
      ]
    },
    {
      "cell_type": "code",
      "source": [
        "a+=2"
      ],
      "metadata": {
        "id": "DpmylcuY4uTs",
        "outputId": "7a032cb2-395d-42da-bdc2-bf6c9a11b109",
        "colab": {
          "base_uri": "https://localhost:8080/"
        }
      },
      "execution_count": 46,
      "outputs": [
        {
          "output_type": "execute_result",
          "data": {
            "text/plain": [
              "array([3, 4, 5, 6])"
            ]
          },
          "metadata": {},
          "execution_count": 46
        }
      ]
    },
    {
      "cell_type": "code",
      "source": [
        "a-2"
      ],
      "metadata": {
        "id": "5JjM6gSL44Vf",
        "outputId": "d372ccbd-f96a-4ccc-b1b1-e3cad820722d",
        "colab": {
          "base_uri": "https://localhost:8080/"
        }
      },
      "execution_count": 47,
      "outputs": [
        {
          "output_type": "execute_result",
          "data": {
            "text/plain": [
              "array([-1,  0,  1,  2])"
            ]
          },
          "metadata": {},
          "execution_count": 47
        }
      ]
    },
    {
      "cell_type": "code",
      "source": [
        "a*2"
      ],
      "metadata": {
        "id": "V8tVUtNq5AOr",
        "outputId": "c19af2bf-8675-43b3-da06-399aaafc8765",
        "colab": {
          "base_uri": "https://localhost:8080/"
        }
      },
      "execution_count": 48,
      "outputs": [
        {
          "output_type": "execute_result",
          "data": {
            "text/plain": [
              "array([2, 4, 6, 8])"
            ]
          },
          "metadata": {},
          "execution_count": 48
        }
      ]
    },
    {
      "cell_type": "code",
      "source": [
        "a/2"
      ],
      "metadata": {
        "id": "rew-ztI55j1H",
        "outputId": "307ad1c1-88ea-4d01-d71d-6786c7418ae4",
        "colab": {
          "base_uri": "https://localhost:8080/"
        }
      },
      "execution_count": 49,
      "outputs": [
        {
          "output_type": "execute_result",
          "data": {
            "text/plain": [
              "array([0.5, 1. , 1.5, 2. ])"
            ]
          },
          "metadata": {},
          "execution_count": 49
        }
      ]
    },
    {
      "cell_type": "code",
      "source": [
        ""
      ],
      "metadata": {
        "id": "iHjRVxbq50x6"
      },
      "execution_count": null,
      "outputs": []
    }
  ]
}