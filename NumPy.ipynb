{
  "nbformat": 4,
  "nbformat_minor": 0,
  "metadata": {
    "colab": {
      "name": "NumPy.ipynb",
      "provenance": [],
      "authorship_tag": "ABX9TyNf5s9bBbLFmHFysGNMKjfP",
      "include_colab_link": true
    },
    "kernelspec": {
      "name": "python3",
      "display_name": "Python 3"
    },
    "language_info": {
      "name": "python"
    }
  },
  "cells": [
    {
      "cell_type": "markdown",
      "metadata": {
        "id": "view-in-github",
        "colab_type": "text"
      },
      "source": [
        "<a href=\"https://colab.research.google.com/github/vikasvr1997/Python_Examples_for_Learing/blob/main/NumPy.ipynb\" target=\"_parent\"><img src=\"https://colab.research.google.com/assets/colab-badge.svg\" alt=\"Open In Colab\"/></a>"
      ]
    },
    {
      "cell_type": "code",
      "execution_count": 1,
      "metadata": {
        "id": "PqxPLL1Wf5R-"
      },
      "outputs": [],
      "source": [
        "import numpy as np\n",
        "import sys"
      ]
    },
    {
      "cell_type": "markdown",
      "source": [
        "we use numpy instead of lists because they occupy less space and have more features compared to list like lists cannot be multiplied, whereas numpy can be multiplied\n",
        "numpy is replacement of matlab \n",
        "used in plotting\n",
        "core component of pandas "
      ],
      "metadata": {
        "id": "0BtnUwtmjmBV"
      }
    },
    {
      "cell_type": "code",
      "source": [
        "a = np.array([1,2,3],np.int8)\n"
      ],
      "metadata": {
        "id": "kfgD3Yb-imEi"
      },
      "execution_count": 14,
      "outputs": []
    },
    {
      "cell_type": "code",
      "source": [
        "a"
      ],
      "metadata": {
        "colab": {
          "base_uri": "https://localhost:8080/"
        },
        "id": "utP_6xWFkVHz",
        "outputId": "2d78ef8f-210d-4bab-d4d7-06626bcbcffd"
      },
      "execution_count": 4,
      "outputs": [
        {
          "output_type": "execute_result",
          "data": {
            "text/plain": [
              "array([1, 2, 3])"
            ]
          },
          "metadata": {},
          "execution_count": 4
        }
      ]
    },
    {
      "cell_type": "code",
      "source": [
        "print(a)"
      ],
      "metadata": {
        "colab": {
          "base_uri": "https://localhost:8080/"
        },
        "id": "8EO4klHvktHi",
        "outputId": "336e40eb-1c1c-4dbe-ef07-8d6cbb7cd37f"
      },
      "execution_count": 5,
      "outputs": [
        {
          "output_type": "stream",
          "name": "stdout",
          "text": [
            "[1 2 3]\n"
          ]
        }
      ]
    },
    {
      "cell_type": "code",
      "source": [
        "b = np.array([[1.2,3.4,5.0,5.0],[2.0,3.0,4.0,5.0]],np.int8)\n",
        "c = np.array([[1,2,3,4,5,6,7,8],[1.0,2.0,5.6,8.9,6,7,9,2]])"
      ],
      "metadata": {
        "id": "K43Vgigjkvyk"
      },
      "execution_count": 16,
      "outputs": []
    },
    {
      "cell_type": "code",
      "source": [
        "# Get Dimension\n",
        "a.ndim\n",
        "b.ndim"
      ],
      "metadata": {
        "colab": {
          "base_uri": "https://localhost:8080/"
        },
        "id": "zawH4mollak5",
        "outputId": "122a2dfa-809a-4d2e-edc2-dfacdba989e4"
      },
      "execution_count": 11,
      "outputs": [
        {
          "output_type": "execute_result",
          "data": {
            "text/plain": [
              "2"
            ]
          },
          "metadata": {},
          "execution_count": 11
        }
      ]
    },
    {
      "cell_type": "code",
      "source": [
        "#get shape : provides shape of the matrix array\n",
        "b.shape\n"
      ],
      "metadata": {
        "colab": {
          "base_uri": "https://localhost:8080/"
        },
        "id": "l2dLiOWulwPG",
        "outputId": "d5739eca-1990-4ef8-8f61-8c657611183e"
      },
      "execution_count": 12,
      "outputs": [
        {
          "output_type": "execute_result",
          "data": {
            "text/plain": [
              "(2, 4)"
            ]
          },
          "metadata": {},
          "execution_count": 12
        }
      ]
    },
    {
      "cell_type": "markdown",
      "source": [
        "to know the memory the numpy array is using we use below functions called by function x.dtype"
      ],
      "metadata": {
        "id": "JqVJwGV7mIWy"
      }
    },
    {
      "cell_type": "code",
      "source": [
        "a.dtype"
      ],
      "metadata": {
        "colab": {
          "base_uri": "https://localhost:8080/"
        },
        "id": "7FTG-N6el_pH",
        "outputId": "667120fb-14c6-436d-cee8-9f810e452c0f"
      },
      "execution_count": 15,
      "outputs": [
        {
          "output_type": "execute_result",
          "data": {
            "text/plain": [
              "dtype('int8')"
            ]
          },
          "metadata": {},
          "execution_count": 15
        }
      ]
    },
    {
      "cell_type": "code",
      "source": [
        "b.dtype"
      ],
      "metadata": {
        "colab": {
          "base_uri": "https://localhost:8080/"
        },
        "id": "K2fehE-rmoJP",
        "outputId": "b3ebee74-100b-4ed0-c7c5-63c83f649d06"
      },
      "execution_count": 17,
      "outputs": [
        {
          "output_type": "execute_result",
          "data": {
            "text/plain": [
              "dtype('int8')"
            ]
          },
          "metadata": {},
          "execution_count": 17
        }
      ]
    },
    {
      "cell_type": "code",
      "source": [
        "# get size of the memory in bytes\n",
        "c.itemsize"
      ],
      "metadata": {
        "colab": {
          "base_uri": "https://localhost:8080/"
        },
        "id": "HmUpge70mxm1",
        "outputId": "fdb99e91-4464-4322-a448-ed43de06f4f0"
      },
      "execution_count": 21,
      "outputs": [
        {
          "output_type": "execute_result",
          "data": {
            "text/plain": [
              "8"
            ]
          },
          "metadata": {},
          "execution_count": 21
        }
      ]
    },
    {
      "cell_type": "code",
      "source": [
        "# Get Total Size\n",
        "#b.size\n"
      ],
      "metadata": {
        "colab": {
          "base_uri": "https://localhost:8080/"
        },
        "id": "kdDpu_kunK77",
        "outputId": "48a1b8cd-bed2-4157-9501-4692811d90f8"
      },
      "execution_count": 23,
      "outputs": [
        {
          "output_type": "execute_result",
          "data": {
            "text/plain": [
              "8"
            ]
          },
          "metadata": {},
          "execution_count": 23
        }
      ]
    },
    {
      "cell_type": "markdown",
      "source": [
        "# accessing specific elements, rows , and columns\n"
      ],
      "metadata": {
        "id": "-HaRcNumnl7H"
      }
    },
    {
      "cell_type": "code",
      "source": [
        "a = np.array([[1,2,3,4,5,6,7,8],[9,10,11,12,13,14,15,16]], np.int16)\n",
        "print(a)"
      ],
      "metadata": {
        "colab": {
          "base_uri": "https://localhost:8080/"
        },
        "id": "5xotK5lyn8cj",
        "outputId": "cc7d4b47-1863-4cdb-d3aa-0b189c8efa0c"
      },
      "execution_count": 39,
      "outputs": [
        {
          "output_type": "stream",
          "name": "stdout",
          "text": [
            "[[ 1  2  3  4  5  6  7  8]\n",
            " [ 9 10 11 12 13 14 15 16]]\n"
          ]
        }
      ]
    },
    {
      "cell_type": "markdown",
      "source": [
        "Syntax: numpy.shape(array_name) \n",
        "Parameters: Array is passed as a Parameter. \n",
        "Return: A tuple whose elements give the lengths of the corresponding array dimensions. "
      ],
      "metadata": {
        "id": "Co6W0YJXor8e"
      }
    },
    {
      "cell_type": "code",
      "source": [
        "np.shape(b)"
      ],
      "metadata": {
        "colab": {
          "base_uri": "https://localhost:8080/"
        },
        "id": "8IE-1zpUoW6P",
        "outputId": "4e411c36-c4b0-4812-da63-68fbb349e047"
      },
      "execution_count": 27,
      "outputs": [
        {
          "output_type": "execute_result",
          "data": {
            "text/plain": [
              "(2, 4)"
            ]
          },
          "metadata": {},
          "execution_count": 27
        }
      ]
    },
    {
      "cell_type": "code",
      "source": [
        "# get specific element [r,c] -> in the next line of code we get to see that we will cal on a specific element in a array\n",
        "a[1,4]"
      ],
      "metadata": {
        "colab": {
          "base_uri": "https://localhost:8080/"
        },
        "id": "yreXRMk5o25_",
        "outputId": "0181d636-c452-4db0-a929-430576f9f3a1"
      },
      "execution_count": 28,
      "outputs": [
        {
          "output_type": "execute_result",
          "data": {
            "text/plain": [
              "13"
            ]
          },
          "metadata": {},
          "execution_count": 28
        }
      ]
    },
    {
      "cell_type": "code",
      "source": [
        "# get specific row \n",
        "a[0,:]"
      ],
      "metadata": {
        "colab": {
          "base_uri": "https://localhost:8080/"
        },
        "id": "vngtnT79pa6V",
        "outputId": "ff861d06-d2c0-4c5c-cc29-d812bd105e70"
      },
      "execution_count": 29,
      "outputs": [
        {
          "output_type": "execute_result",
          "data": {
            "text/plain": [
              "array([1, 2, 3, 4, 5, 6, 7, 8])"
            ]
          },
          "metadata": {},
          "execution_count": 29
        }
      ]
    },
    {
      "cell_type": "code",
      "source": [
        "# similar to column\n",
        "a[:,1]"
      ],
      "metadata": {
        "colab": {
          "base_uri": "https://localhost:8080/"
        },
        "id": "yY2hquV2pq7P",
        "outputId": "0583757f-d82f-45b2-d96c-8f1101fa3890"
      },
      "execution_count": 30,
      "outputs": [
        {
          "output_type": "execute_result",
          "data": {
            "text/plain": [
              "array([ 2, 10])"
            ]
          },
          "metadata": {},
          "execution_count": 30
        }
      ]
    },
    {
      "cell_type": "code",
      "source": [
        "#  getting a index in more fancy way [start index: end index: step size]\n",
        "x = a[0,1:7:2]# here we need to understand that in an array a = np.array([[1,2,3,4,5,6,7,8],[9,10,11,12,13,14,15,16]]), such that  a[first row,second element : last element : steppimg it by 2]\n",
        "# note: never use -2 in index stepping as if you are checking from starting then it can display an empty list so edit the start and end index with negative calls\n",
        "print(x)"
      ],
      "metadata": {
        "colab": {
          "base_uri": "https://localhost:8080/"
        },
        "id": "qXFvitx9p1sb",
        "outputId": "d234eeff-299d-4429-837e-afac67fac3db"
      },
      "execution_count": 41,
      "outputs": [
        {
          "output_type": "stream",
          "name": "stdout",
          "text": [
            "[2 4 6]\n"
          ]
        }
      ]
    },
    {
      "cell_type": "code",
      "source": [
        "# change element in a particular position\n",
        "a[1,4] = 23"
      ],
      "metadata": {
        "id": "ZWO_XQVfrDyf"
      },
      "execution_count": 40,
      "outputs": []
    },
    {
      "cell_type": "markdown",
      "source": [
        "3-D example"
      ],
      "metadata": {
        "id": "EOJU1LLWtBcZ"
      }
    },
    {
      "cell_type": "code",
      "source": [
        "a = np.array([[[1,2],[2,4]],[[4,6],[5,7]]],np.int16)\n",
        "print(a)"
      ],
      "metadata": {
        "colab": {
          "base_uri": "https://localhost:8080/"
        },
        "id": "9iu5L3MEswP5",
        "outputId": "829a0543-d2be-4e6d-b492-e711838b8dfe"
      },
      "execution_count": 44,
      "outputs": [
        {
          "output_type": "stream",
          "name": "stdout",
          "text": [
            "[[[1 2]\n",
            "  [2 4]]\n",
            "\n",
            " [[4 6]\n",
            "  [5 7]]]\n"
          ]
        }
      ]
    },
    {
      "cell_type": "code",
      "source": [
        "# get specific element(work in specific in )\n",
        "a[0,1,0]# here we are selecting an element from first inner list, then selecting second innner-inner list, then the element position is specified at last \n",
        "# changing each position will cause a different effect for the matrix"
      ],
      "metadata": {
        "colab": {
          "base_uri": "https://localhost:8080/"
        },
        "id": "VFztplyotnt_",
        "outputId": "ffafd700-a589-4ffb-c34e-112c356dea2b"
      },
      "execution_count": 46,
      "outputs": [
        {
          "output_type": "execute_result",
          "data": {
            "text/plain": [
              "2"
            ]
          },
          "metadata": {},
          "execution_count": 46
        }
      ]
    },
    {
      "cell_type": "code",
      "source": [
        "a[:,1,:] = [[9,9],[8,8]]\n"
      ],
      "metadata": {
        "id": "VDxE1Fz4uVz-"
      },
      "execution_count": 47,
      "outputs": []
    },
    {
      "cell_type": "code",
      "source": [
        "a\n"
      ],
      "metadata": {
        "colab": {
          "base_uri": "https://localhost:8080/"
        },
        "id": "OxFj3Hguu2eW",
        "outputId": "162433dd-7065-4528-ac62-33efd0cfa672"
      },
      "execution_count": 48,
      "outputs": [
        {
          "output_type": "execute_result",
          "data": {
            "text/plain": [
              "array([[[1, 2],\n",
              "        [9, 9]],\n",
              "\n",
              "       [[4, 6],\n",
              "        [8, 8]]], dtype=int16)"
            ]
          },
          "metadata": {},
          "execution_count": 48
        }
      ]
    },
    {
      "cell_type": "markdown",
      "source": [
        "# Initialize different types of variables"
      ],
      "metadata": {
        "id": "PPG287aUu9IM"
      }
    },
    {
      "cell_type": "code",
      "source": [
        "# all 0 matrix\n",
        "np.zeros((2,3,3))"
      ],
      "metadata": {
        "colab": {
          "base_uri": "https://localhost:8080/"
        },
        "id": "kn2THtiUu8QW",
        "outputId": "43278dbc-fdb3-4b65-c256-5c649e3d62f6"
      },
      "execution_count": 49,
      "outputs": [
        {
          "output_type": "execute_result",
          "data": {
            "text/plain": [
              "array([[[0., 0., 0.],\n",
              "        [0., 0., 0.],\n",
              "        [0., 0., 0.]],\n",
              "\n",
              "       [[0., 0., 0.],\n",
              "        [0., 0., 0.],\n",
              "        [0., 0., 0.]]])"
            ]
          },
          "metadata": {},
          "execution_count": 49
        }
      ]
    },
    {
      "cell_type": "code",
      "source": [
        "# all 1s IN a matrix\n",
        "np.ones((2,4,4),np.int16)"
      ],
      "metadata": {
        "colab": {
          "base_uri": "https://localhost:8080/"
        },
        "id": "7WLZWhnSvwp1",
        "outputId": "9efad13f-3966-42cf-f6d7-f0b78b72e792"
      },
      "execution_count": 50,
      "outputs": [
        {
          "output_type": "execute_result",
          "data": {
            "text/plain": [
              "array([[[1, 1, 1, 1],\n",
              "        [1, 1, 1, 1],\n",
              "        [1, 1, 1, 1],\n",
              "        [1, 1, 1, 1]],\n",
              "\n",
              "       [[1, 1, 1, 1],\n",
              "        [1, 1, 1, 1],\n",
              "        [1, 1, 1, 1],\n",
              "        [1, 1, 1, 1]]], dtype=int16)"
            ]
          },
          "metadata": {},
          "execution_count": 50
        }
      ]
    },
    {
      "cell_type": "code",
      "source": [
        "np.full((2,2),99)"
      ],
      "metadata": {
        "colab": {
          "base_uri": "https://localhost:8080/"
        },
        "id": "iDHx3lZJwEQ7",
        "outputId": "c8e2cba7-1dd3-4289-bc92-8e755b070275"
      },
      "execution_count": 51,
      "outputs": [
        {
          "output_type": "execute_result",
          "data": {
            "text/plain": [
              "array([[99, 99],\n",
              "       [99, 99]])"
            ]
          },
          "metadata": {},
          "execution_count": 51
        }
      ]
    },
    {
      "cell_type": "code",
      "source": [
        "# array full Like any other number (full_like)\n",
        "np.full_like(a,4)"
      ],
      "metadata": {
        "colab": {
          "base_uri": "https://localhost:8080/"
        },
        "id": "TtpLr5OCweRS",
        "outputId": "131dbdb0-dfb2-4c25-9f0c-d6ef6ffd5850"
      },
      "execution_count": 53,
      "outputs": [
        {
          "output_type": "execute_result",
          "data": {
            "text/plain": [
              "array([[[4, 4],\n",
              "        [4, 4]],\n",
              "\n",
              "       [[4, 4],\n",
              "        [4, 4]]], dtype=int16)"
            ]
          },
          "metadata": {},
          "execution_count": 53
        }
      ]
    },
    {
      "cell_type": "code",
      "source": [
        "# Random decimal numbers\n",
        "np.random.rand(4,2)"
      ],
      "metadata": {
        "colab": {
          "base_uri": "https://localhost:8080/"
        },
        "id": "F_HN7XPTw6tQ",
        "outputId": "1a473bec-66d3-4cf3-a9d1-a1e9fb4e9e95"
      },
      "execution_count": 54,
      "outputs": [
        {
          "output_type": "execute_result",
          "data": {
            "text/plain": [
              "array([[0.33244619, 0.23961762],\n",
              "       [0.09129542, 0.01306238],\n",
              "       [0.50926127, 0.89117633],\n",
              "       [0.71392165, 0.08502522]])"
            ]
          },
          "metadata": {},
          "execution_count": 54
        }
      ]
    },
    {
      "cell_type": "code",
      "source": [
        "# is a.shape is to be passed then the statement changes\n",
        "np.random.random_sample(a.shape)"
      ],
      "metadata": {
        "colab": {
          "base_uri": "https://localhost:8080/"
        },
        "id": "XRJwParlxUpn",
        "outputId": "34f2c6ba-836e-43bc-f6fc-8ac8f8e38513"
      },
      "execution_count": 55,
      "outputs": [
        {
          "output_type": "execute_result",
          "data": {
            "text/plain": [
              "array([[[0.25877777, 0.9496214 ],\n",
              "        [0.79374217, 0.14015031]],\n",
              "\n",
              "       [[0.92367477, 0.19448816],\n",
              "        [0.66814489, 0.82004936]]])"
            ]
          },
          "metadata": {},
          "execution_count": 55
        }
      ]
    },
    {
      "cell_type": "code",
      "source": [
        "# random integers np.random.randint(max number , size = (r,c)of matrix)\n",
        "np.random.randint(12,size=(3,4))"
      ],
      "metadata": {
        "colab": {
          "base_uri": "https://localhost:8080/"
        },
        "id": "invgFonBxq9S",
        "outputId": "983261ee-72b4-4313-b30f-6cd911369b88"
      },
      "execution_count": 56,
      "outputs": [
        {
          "output_type": "execute_result",
          "data": {
            "text/plain": [
              "array([[ 9, 11,  4,  7],\n",
              "       [ 5, 11,  6,  9],\n",
              "       [ 7,  8,  7,  3]])"
            ]
          },
          "metadata": {},
          "execution_count": 56
        }
      ]
    }
  ]
}