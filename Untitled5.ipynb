{
  "nbformat": 4,
  "nbformat_minor": 0,
  "metadata": {
    "colab": {
      "name": "Untitled5.ipynb",
      "provenance": [],
      "include_colab_link": true
    },
    "kernelspec": {
      "name": "python3",
      "display_name": "Python 3"
    },
    "language_info": {
      "name": "python"
    }
  },
  "cells": [
    {
      "cell_type": "markdown",
      "metadata": {
        "id": "view-in-github",
        "colab_type": "text"
      },
      "source": [
        "<a href=\"https://colab.research.google.com/github/vikasvr1997/Python_Examples_for_Learing/blob/main/Untitled5.ipynb\" target=\"_parent\"><img src=\"https://colab.research.google.com/assets/colab-badge.svg\" alt=\"Open In Colab\"/></a>"
      ]
    },
    {
      "cell_type": "code",
      "execution_count": null,
      "metadata": {
        "colab": {
          "base_uri": "https://localhost:8080/"
        },
        "id": "isZaGOzQiNZ8",
        "outputId": "3d86cfdb-beaa-429e-eed7-6e38d0bea2a2"
      },
      "outputs": [
        {
          "output_type": "stream",
          "name": "stdout",
          "text": [
            "Please enter a number type exit to stop:> 5\n",
            "Please enter next number:> 6\n",
            "Please enter next number:> 8\n",
            "Please enter next number:> 12\n",
            "Please enter next number:> 24\n",
            "Please enter next number:> exit\n",
            "Mean is 11.0\n"
          ]
        }
      ],
      "source": [
        "user_input = input('Please enter a number type exit to stop:> ')\n",
        "numbers = []\n",
        "while user_input.lower() != 'exit':\n",
        "    while not user_input.isdigit():\n",
        "        print('That is not a number! Numbers only please:> ')\n",
        "        user_input = input('Try again:> ')\n",
        "    numbers.append(int(user_input))\n",
        "    user_input = input('Please enter next number:> ')\n",
        "total = 0\n",
        "for number in numbers:\n",
        "    total += number\n",
        "\n",
        "print(f'Mean is {total/len(numbers)}')    #print(sum(numbers)/len(numbers))\n"
      ]
    },
    {
      "cell_type": "code",
      "source": [
        "user_Input = input('please enternthe number  or Type \\\"exit\\\" to stop the input ')\n",
        "numbers = []\n",
        "while user_Input.lower() != 'exit':\n",
        "  while not user_Input.isdigit():\n",
        "    print(\"that is not number! please enter numbers only\")\n",
        "    user_Input = input('Try again:>')\n",
        "  numbers.append(int(user_Input))\n",
        "  user_Input = input('Please enter the number :>')\n",
        "total = 0\n",
        "for number in numbers:\n",
        "  total +=number\n",
        "print(f\"Mean is {total/len(numbers)}\")    \n"
      ],
      "metadata": {
        "colab": {
          "base_uri": "https://localhost:8080/"
        },
        "id": "zlW72e3KiZQq",
        "outputId": "20df54ad-10e3-4567-9e83-4464824732ee"
      },
      "execution_count": null,
      "outputs": [
        {
          "output_type": "stream",
          "name": "stdout",
          "text": [
            "please enternthe number  or Type \"exit\" to stop the input 10\n",
            "Please enter the number :>14\n",
            "Please enter the number :>12\n",
            "Please enter the number :>5\n",
            "Please enter the number :>16\n",
            "Please enter the number :>14\n",
            "Please enter the number :>15\n",
            "Please enter the number :>25\n",
            "Please enter the number :>exit\n",
            "Mean is 13.875\n"
          ]
        }
      ]
    },
    {
      "cell_type": "code",
      "source": [
        "n= 50\n",
        "a = 0\n",
        "b = 1\n",
        "\n",
        "fib_num = []\n",
        "\n",
        "for i  in range(n):\n",
        "  fib_num.append(a)\n",
        "  a,b = b,a+b\n",
        "print(f\"the number is {n} and second number is {fib_num}\")"
      ],
      "metadata": {
        "colab": {
          "base_uri": "https://localhost:8080/"
        },
        "id": "zmUwD7ykj_q6",
        "outputId": "914c420c-cf33-45e4-e171-2190dc744eb3"
      },
      "execution_count": null,
      "outputs": [
        {
          "output_type": "stream",
          "name": "stdout",
          "text": [
            "the number is 50 and second number is [0, 1, 1, 2, 3, 5, 8, 13, 21, 34, 55, 89, 144, 233, 377, 610, 987, 1597, 2584, 4181, 6765, 10946, 17711, 28657, 46368, 75025, 121393, 196418, 317811, 514229, 832040, 1346269, 2178309, 3524578, 5702887, 9227465, 14930352, 24157817, 39088169, 63245986, 102334155, 165580141, 267914296, 433494437, 701408733, 1134903170, 1836311903, 2971215073, 4807526976, 7778742049]\n"
          ]
        }
      ]
    },
    {
      "cell_type": "code",
      "source": [
        "import math\n",
        "import random\n",
        "print(math.pi)\n",
        "print(math.cos(0))\n",
        "print(randint(1,100))"
      ],
      "metadata": {
        "colab": {
          "base_uri": "https://localhost:8080/",
          "height": 235
        },
        "id": "y8BjqRiZmrQ6",
        "outputId": "2e918423-7772-4478-dab6-3d815b243068"
      },
      "execution_count": null,
      "outputs": [
        {
          "output_type": "stream",
          "name": "stdout",
          "text": [
            "3.141592653589793\n",
            "1.0\n"
          ]
        },
        {
          "output_type": "error",
          "ename": "NameError",
          "evalue": "ignored",
          "traceback": [
            "\u001b[0;31m---------------------------------------------------------------------------\u001b[0m",
            "\u001b[0;31mNameError\u001b[0m                                 Traceback (most recent call last)",
            "\u001b[0;32m<ipython-input-11-fb231d34e5be>\u001b[0m in \u001b[0;36m<module>\u001b[0;34m()\u001b[0m\n\u001b[1;32m      3\u001b[0m \u001b[0mprint\u001b[0m\u001b[0;34m(\u001b[0m\u001b[0mmath\u001b[0m\u001b[0;34m.\u001b[0m\u001b[0mpi\u001b[0m\u001b[0;34m)\u001b[0m\u001b[0;34m\u001b[0m\u001b[0;34m\u001b[0m\u001b[0m\n\u001b[1;32m      4\u001b[0m \u001b[0mprint\u001b[0m\u001b[0;34m(\u001b[0m\u001b[0mmath\u001b[0m\u001b[0;34m.\u001b[0m\u001b[0mcos\u001b[0m\u001b[0;34m(\u001b[0m\u001b[0;36m0\u001b[0m\u001b[0;34m)\u001b[0m\u001b[0;34m)\u001b[0m\u001b[0;34m\u001b[0m\u001b[0;34m\u001b[0m\u001b[0m\n\u001b[0;32m----> 5\u001b[0;31m \u001b[0mprint\u001b[0m\u001b[0;34m(\u001b[0m\u001b[0mrandint\u001b[0m\u001b[0;34m(\u001b[0m\u001b[0;36m1\u001b[0m\u001b[0;34m,\u001b[0m\u001b[0;36m100\u001b[0m\u001b[0;34m)\u001b[0m\u001b[0;34m)\u001b[0m\u001b[0;34m\u001b[0m\u001b[0;34m\u001b[0m\u001b[0m\n\u001b[0m",
            "\u001b[0;31mNameError\u001b[0m: name 'randint' is not defined"
          ]
        }
      ]
    },
    {
      "cell_type": "code",
      "source": [
        "import random"
      ],
      "metadata": {
        "id": "IGrPSFTtoKIX"
      },
      "execution_count": null,
      "outputs": []
    },
    {
      "cell_type": "code",
      "source": [
        "print(random.randint(1,100))"
      ],
      "metadata": {
        "colab": {
          "base_uri": "https://localhost:8080/"
        },
        "id": "d-Em_AH3oMlj",
        "outputId": "2beabc0e-bc30-4418-cd79-5bb257e92a3e"
      },
      "execution_count": null,
      "outputs": [
        {
          "output_type": "stream",
          "name": "stdout",
          "text": [
            "46\n"
          ]
        }
      ]
    },
    {
      "cell_type": "markdown",
      "source": [
        "#import math\n",
        "#\n",
        "##https://docs.python.org/3/library/math.html#module-math\n",
        "#\n",
        "#\n",
        "#print(math.pi)\n",
        "##\n",
        "#print(math.cos(0))\n",
        "##\n",
        "#import random\n",
        "#\n",
        "#print(randint(1,100))\n",
        "#\n",
        "\n",
        "#print(random.randint(1,100))\n",
        "\n",
        "# https://docs.python.org/3/library/random.html\n",
        "\n",
        "#for i in range(100):\n",
        "#    print(random.randint(1,100),end=' ')\n",
        "#    \n",
        "#import webbrowser\n",
        "##\n",
        "#webbrowser.open('https://docs.python.org/3/library/webbrowser.html') \n",
        "\n",
        "\n",
        "\n"
      ],
      "metadata": {
        "id": "1BZ6sBHGm6IF"
      }
    },
    {
      "cell_type": "code",
      "source": [
        "import webbrowser\n",
        "webbrowser.open('https://docs.python.org/3/library/webbrowser.html')"
      ],
      "metadata": {
        "colab": {
          "base_uri": "https://localhost:8080/"
        },
        "id": "ryRRn9nGpS-J",
        "outputId": "2c32c174-2559-446d-c596-b0c87751a339"
      },
      "execution_count": 2,
      "outputs": [
        {
          "output_type": "execute_result",
          "data": {
            "text/plain": [
              "False"
            ]
          },
          "metadata": {},
          "execution_count": 2
        }
      ]
    },
    {
      "cell_type": "code",
      "source": [
        "capitals = {'France':['Paris','london'],'Spain':'Madrid','United Kingdom':'London',\n",
        "            'India':'New Delhi','United States':'Washington DC','Italy':'Rome',\n",
        "            'Denmark':'Copenhagen','Germany':'[Berlin,london]','Greece':'Athens',\n",
        "            'Bulgaria':'Sofia','Ireland':'Dublin','Mexico':'Mexico City','France':'Paris'}#{'key : value'}# you can make a list to a dictionary by keeping list in value side"
      ],
      "metadata": {
        "id": "vdGhGWOfqs8-"
      },
      "execution_count": 25,
      "outputs": []
    },
    {
      "cell_type": "code",
      "source": [
        "\n",
        "capitals.get('Germany')"
      ],
      "metadata": {
        "colab": {
          "base_uri": "https://localhost:8080/",
          "height": 36
        },
        "id": "wKCmTxNOrpSz",
        "outputId": "7bceffee-4d5a-4f01-b0a8-c9de051a13a3"
      },
      "execution_count": 4,
      "outputs": [
        {
          "output_type": "execute_result",
          "data": {
            "text/plain": [
              "'[Berlin,london]'"
            ],
            "application/vnd.google.colaboratory.intrinsic+json": {
              "type": "string"
            }
          },
          "metadata": {},
          "execution_count": 4
        }
      ]
    },
    {
      "cell_type": "code",
      "source": [
        "print(capitals)"
      ],
      "metadata": {
        "colab": {
          "base_uri": "https://localhost:8080/"
        },
        "id": "kY1ttCKwumSt",
        "outputId": "39a2e6c4-9100-47be-f32c-c3fd4df1d986"
      },
      "execution_count": 5,
      "outputs": [
        {
          "output_type": "stream",
          "name": "stdout",
          "text": [
            "{'France': ['Paris', 'london'], 'Spain': 'Madrid', 'United Kingdom': 'London', 'India': 'New Delhi', 'United States': 'Washington DC', 'Italy': 'Rome', 'Denmark': 'Copenhagen', 'Germany': '[Berlin,london]', 'Greece': 'Athens', 'Bulgaria': 'Sofia', 'Ireland': 'Dublin', 'Mexico': 'Mexico City'}\n"
          ]
        }
      ]
    },
    {
      "cell_type": "code",
      "source": [
        "print(capitals.items())"
      ],
      "metadata": {
        "colab": {
          "base_uri": "https://localhost:8080/"
        },
        "id": "zvsQqydZu4W3",
        "outputId": "ea1556af-d761-457f-d30f-d706b3c8c4fb"
      },
      "execution_count": 6,
      "outputs": [
        {
          "output_type": "stream",
          "name": "stdout",
          "text": [
            "dict_items([('France', ['Paris', 'london']), ('Spain', 'Madrid'), ('United Kingdom', 'London'), ('India', 'New Delhi'), ('United States', 'Washington DC'), ('Italy', 'Rome'), ('Denmark', 'Copenhagen'), ('Germany', '[Berlin,london]'), ('Greece', 'Athens'), ('Bulgaria', 'Sofia'), ('Ireland', 'Dublin'), ('Mexico', 'Mexico City')])\n"
          ]
        }
      ]
    },
    {
      "cell_type": "code",
      "source": [
        "for country in capitals:\n",
        "  print(country)"
      ],
      "metadata": {
        "id": "6AJSAqZ_TESK",
        "outputId": "d2838fc0-2edd-45bf-c004-d33373ec3bcb",
        "colab": {
          "base_uri": "https://localhost:8080/"
        }
      },
      "execution_count": 7,
      "outputs": [
        {
          "output_type": "stream",
          "name": "stdout",
          "text": [
            "France\n",
            "Spain\n",
            "United Kingdom\n",
            "India\n",
            "United States\n",
            "Italy\n",
            "Denmark\n",
            "Germany\n",
            "Greece\n",
            "Bulgaria\n",
            "Ireland\n",
            "Mexico\n"
          ]
        }
      ]
    },
    {
      "cell_type": "code",
      "source": [
        "for country,city in capitals.items():\n",
        "  print(f'the capitals of {country} is {city}')"
      ],
      "metadata": {
        "id": "1iABtSHiWBRh",
        "outputId": "fa835485-b3e6-4471-9661-2d8ee883d192",
        "colab": {
          "base_uri": "https://localhost:8080/"
        }
      },
      "execution_count": 11,
      "outputs": [
        {
          "output_type": "stream",
          "name": "stdout",
          "text": [
            "the capitals of France is ['Paris', 'london']\n",
            "the capitals of Spain is Madrid\n",
            "the capitals of United Kingdom is London\n",
            "the capitals of India is New Delhi\n",
            "the capitals of United States is Washington DC\n",
            "the capitals of Italy is Rome\n",
            "the capitals of Denmark is Copenhagen\n",
            "the capitals of Germany is [Berlin,london]\n",
            "the capitals of Greece is Athens\n",
            "the capitals of Bulgaria is Sofia\n",
            "the capitals of Ireland is Dublin\n",
            "the capitals of Mexico is Mexico City\n"
          ]
        }
      ]
    },
    {
      "cell_type": "code",
      "source": [
        "print(capitals.keys())"
      ],
      "metadata": {
        "id": "VNWKtPrvWmxX",
        "outputId": "1e676633-83ff-4b46-a10e-bff295ea0c0a",
        "colab": {
          "base_uri": "https://localhost:8080/"
        }
      },
      "execution_count": 13,
      "outputs": [
        {
          "output_type": "stream",
          "name": "stdout",
          "text": [
            "dict_keys(['France', 'Spain', 'United Kingdom', 'India', 'United States', 'Italy', 'Denmark', 'Germany', 'Greece', 'Bulgaria', 'Ireland', 'Mexico'])\n"
          ]
        }
      ]
    },
    {
      "cell_type": "code",
      "source": [
        "print(capitals.values())"
      ],
      "metadata": {
        "id": "fXsylIKGWu-E",
        "outputId": "1ae47695-8b3b-46c9-fd9b-f6bff6c9ae56",
        "colab": {
          "base_uri": "https://localhost:8080/"
        }
      },
      "execution_count": 15,
      "outputs": [
        {
          "output_type": "stream",
          "name": "stdout",
          "text": [
            "dict_values([['Paris', 'london'], 'Madrid', 'London', 'New Delhi', 'Washington DC', 'Rome', 'Copenhagen', '[Berlin,london]', 'Athens', 'Sofia', 'Dublin', 'Mexico City'])\n"
          ]
        }
      ]
    },
    {
      "cell_type": "code",
      "source": [
        "if 'France' in capitals.items():\n",
        "  print('the contains is France')"
      ],
      "metadata": {
        "id": "9eYtgjdKW3iD"
      },
      "execution_count": 24,
      "outputs": []
    },
    {
      "cell_type": "code",
      "source": [
        "x = 'France'\n",
        "if x.lower() in capitals:\n",
        "  print('dict contains France')"
      ],
      "metadata": {
        "id": "LufIM8mxX5Qq"
      },
      "execution_count": 26,
      "outputs": []
    }
  ]
}