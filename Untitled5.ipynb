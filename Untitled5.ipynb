{
  "nbformat": 4,
  "nbformat_minor": 0,
  "metadata": {
    "colab": {
      "name": "Untitled5.ipynb",
      "provenance": [],
      "include_colab_link": true
    },
    "kernelspec": {
      "name": "python3",
      "display_name": "Python 3"
    },
    "language_info": {
      "name": "python"
    }
  },
  "cells": [
    {
      "cell_type": "markdown",
      "metadata": {
        "id": "view-in-github",
        "colab_type": "text"
      },
      "source": [
        "<a href=\"https://colab.research.google.com/github/vikasvr1997/Python_Examples_for_Learing/blob/main/Untitled5.ipynb\" target=\"_parent\"><img src=\"https://colab.research.google.com/assets/colab-badge.svg\" alt=\"Open In Colab\"/></a>"
      ]
    },
    {
      "cell_type": "code",
      "execution_count": null,
      "metadata": {
        "colab": {
          "base_uri": "https://localhost:8080/"
        },
        "id": "isZaGOzQiNZ8",
        "outputId": "3d86cfdb-beaa-429e-eed7-6e38d0bea2a2"
      },
      "outputs": [
        {
          "output_type": "stream",
          "name": "stdout",
          "text": [
            "Please enter a number type exit to stop:> 5\n",
            "Please enter next number:> 6\n",
            "Please enter next number:> 8\n",
            "Please enter next number:> 12\n",
            "Please enter next number:> 24\n",
            "Please enter next number:> exit\n",
            "Mean is 11.0\n"
          ]
        }
      ],
      "source": [
        "user_input = input('Please enter a number type exit to stop:> ')\n",
        "numbers = []\n",
        "while user_input.lower() != 'exit':\n",
        "    while not user_input.isdigit():\n",
        "        print('That is not a number! Numbers only please:> ')\n",
        "        user_input = input('Try again:> ')\n",
        "    numbers.append(int(user_input))\n",
        "    user_input = input('Please enter next number:> ')\n",
        "total = 0\n",
        "for number in numbers:\n",
        "    total += number\n",
        "\n",
        "print(f'Mean is {total/len(numbers)}')    #print(sum(numbers)/len(numbers))\n"
      ]
    },
    {
      "cell_type": "code",
      "source": [
        "user_Input = input('please enternthe number  or Type \\\"exit\\\" to stop the input ')\n",
        "numbers = []\n",
        "while user_Input.lower() != 'exit':\n",
        "  while not user_Input.isdigit():\n",
        "    print(\"that is not number! please enter numbers only\")\n",
        "    user_Input = input('Try again:>')\n",
        "  numbers.append(int(user_Input))\n",
        "  user_Input = input('Please enter the number :>')\n",
        "total = 0\n",
        "for number in numbers:\n",
        "  total +=number\n",
        "print(f\"Mean is {total/len(numbers)}\")    \n"
      ],
      "metadata": {
        "colab": {
          "base_uri": "https://localhost:8080/"
        },
        "id": "zlW72e3KiZQq",
        "outputId": "20df54ad-10e3-4567-9e83-4464824732ee"
      },
      "execution_count": null,
      "outputs": [
        {
          "output_type": "stream",
          "name": "stdout",
          "text": [
            "please enternthe number  or Type \"exit\" to stop the input 10\n",
            "Please enter the number :>14\n",
            "Please enter the number :>12\n",
            "Please enter the number :>5\n",
            "Please enter the number :>16\n",
            "Please enter the number :>14\n",
            "Please enter the number :>15\n",
            "Please enter the number :>25\n",
            "Please enter the number :>exit\n",
            "Mean is 13.875\n"
          ]
        }
      ]
    },
    {
      "cell_type": "code",
      "source": [
        "n= 50\n",
        "a = 0\n",
        "b = 1\n",
        "\n",
        "fib_num = []\n",
        "\n",
        "for i  in range(n):\n",
        "  fib_num.append(a)\n",
        "  a,b = b,a+b\n",
        "print(f\"the number is {n} and second number is {fib_num}\")"
      ],
      "metadata": {
        "colab": {
          "base_uri": "https://localhost:8080/"
        },
        "id": "zmUwD7ykj_q6",
        "outputId": "914c420c-cf33-45e4-e171-2190dc744eb3"
      },
      "execution_count": null,
      "outputs": [
        {
          "output_type": "stream",
          "name": "stdout",
          "text": [
            "the number is 50 and second number is [0, 1, 1, 2, 3, 5, 8, 13, 21, 34, 55, 89, 144, 233, 377, 610, 987, 1597, 2584, 4181, 6765, 10946, 17711, 28657, 46368, 75025, 121393, 196418, 317811, 514229, 832040, 1346269, 2178309, 3524578, 5702887, 9227465, 14930352, 24157817, 39088169, 63245986, 102334155, 165580141, 267914296, 433494437, 701408733, 1134903170, 1836311903, 2971215073, 4807526976, 7778742049]\n"
          ]
        }
      ]
    },
    {
      "cell_type": "code",
      "source": [
        "import math\n",
        "import random\n",
        "print(math.pi)\n",
        "print(math.cos(0))\n",
        "print(randint(1,100))"
      ],
      "metadata": {
        "colab": {
          "base_uri": "https://localhost:8080/",
          "height": 235
        },
        "id": "y8BjqRiZmrQ6",
        "outputId": "2e918423-7772-4478-dab6-3d815b243068"
      },
      "execution_count": null,
      "outputs": [
        {
          "output_type": "stream",
          "name": "stdout",
          "text": [
            "3.141592653589793\n",
            "1.0\n"
          ]
        },
        {
          "output_type": "error",
          "ename": "NameError",
          "evalue": "ignored",
          "traceback": [
            "\u001b[0;31m---------------------------------------------------------------------------\u001b[0m",
            "\u001b[0;31mNameError\u001b[0m                                 Traceback (most recent call last)",
            "\u001b[0;32m<ipython-input-11-fb231d34e5be>\u001b[0m in \u001b[0;36m<module>\u001b[0;34m()\u001b[0m\n\u001b[1;32m      3\u001b[0m \u001b[0mprint\u001b[0m\u001b[0;34m(\u001b[0m\u001b[0mmath\u001b[0m\u001b[0;34m.\u001b[0m\u001b[0mpi\u001b[0m\u001b[0;34m)\u001b[0m\u001b[0;34m\u001b[0m\u001b[0;34m\u001b[0m\u001b[0m\n\u001b[1;32m      4\u001b[0m \u001b[0mprint\u001b[0m\u001b[0;34m(\u001b[0m\u001b[0mmath\u001b[0m\u001b[0;34m.\u001b[0m\u001b[0mcos\u001b[0m\u001b[0;34m(\u001b[0m\u001b[0;36m0\u001b[0m\u001b[0;34m)\u001b[0m\u001b[0;34m)\u001b[0m\u001b[0;34m\u001b[0m\u001b[0;34m\u001b[0m\u001b[0m\n\u001b[0;32m----> 5\u001b[0;31m \u001b[0mprint\u001b[0m\u001b[0;34m(\u001b[0m\u001b[0mrandint\u001b[0m\u001b[0;34m(\u001b[0m\u001b[0;36m1\u001b[0m\u001b[0;34m,\u001b[0m\u001b[0;36m100\u001b[0m\u001b[0;34m)\u001b[0m\u001b[0;34m)\u001b[0m\u001b[0;34m\u001b[0m\u001b[0;34m\u001b[0m\u001b[0m\n\u001b[0m",
            "\u001b[0;31mNameError\u001b[0m: name 'randint' is not defined"
          ]
        }
      ]
    },
    {
      "cell_type": "code",
      "source": [
        "import random"
      ],
      "metadata": {
        "id": "IGrPSFTtoKIX"
      },
      "execution_count": null,
      "outputs": []
    },
    {
      "cell_type": "code",
      "source": [
        "print(random.randint(1,100))"
      ],
      "metadata": {
        "colab": {
          "base_uri": "https://localhost:8080/"
        },
        "id": "d-Em_AH3oMlj",
        "outputId": "2beabc0e-bc30-4418-cd79-5bb257e92a3e"
      },
      "execution_count": null,
      "outputs": [
        {
          "output_type": "stream",
          "name": "stdout",
          "text": [
            "46\n"
          ]
        }
      ]
    },
    {
      "cell_type": "markdown",
      "source": [
        "#import math\n",
        "#\n",
        "##https://docs.python.org/3/library/math.html#module-math\n",
        "#\n",
        "#\n",
        "#print(math.pi)\n",
        "##\n",
        "#print(math.cos(0))\n",
        "##\n",
        "#import random\n",
        "#\n",
        "#print(randint(1,100))\n",
        "#\n",
        "\n",
        "#print(random.randint(1,100))\n",
        "\n",
        "# https://docs.python.org/3/library/random.html\n",
        "\n",
        "#for i in range(100):\n",
        "#    print(random.randint(1,100),end=' ')\n",
        "#    \n",
        "#import webbrowser\n",
        "##\n",
        "#webbrowser.open('https://docs.python.org/3/library/webbrowser.html') \n",
        "\n",
        "\n",
        "\n"
      ],
      "metadata": {
        "id": "1BZ6sBHGm6IF"
      }
    },
    {
      "cell_type": "code",
      "source": [
        "import webbrowser\n",
        "webbrowser.open('https://docs.python.org/3/library/webbrowser.html')"
      ],
      "metadata": {
        "colab": {
          "base_uri": "https://localhost:8080/"
        },
        "id": "ryRRn9nGpS-J",
        "outputId": "2c32c174-2559-446d-c596-b0c87751a339"
      },
      "execution_count": null,
      "outputs": [
        {
          "output_type": "execute_result",
          "data": {
            "text/plain": [
              "False"
            ]
          },
          "metadata": {},
          "execution_count": 2
        }
      ]
    },
    {
      "cell_type": "code",
      "source": [
        "capitals = {'France':['Paris','london'],'Spain':'Madrid','United Kingdom':'London',\n",
        "            'India':'New Delhi','United States':'Washington DC','Italy':'Rome',\n",
        "            'Denmark':'Copenhagen','Germany':'[Berlin,london]','Greece':'Athens',\n",
        "            'Bulgaria':'Sofia','Ireland':'Dublin','Mexico':'Mexico City','france':'Paris'}#{'key : value'}# you can make a list to a dictionary by keeping list in value side"
      ],
      "metadata": {
        "id": "vdGhGWOfqs8-"
      },
      "execution_count": 32,
      "outputs": []
    },
    {
      "cell_type": "code",
      "source": [
        "\n",
        "capitals.get('Germany')"
      ],
      "metadata": {
        "colab": {
          "base_uri": "https://localhost:8080/",
          "height": 36
        },
        "id": "wKCmTxNOrpSz",
        "outputId": "7bceffee-4d5a-4f01-b0a8-c9de051a13a3"
      },
      "execution_count": null,
      "outputs": [
        {
          "output_type": "execute_result",
          "data": {
            "text/plain": [
              "'[Berlin,london]'"
            ],
            "application/vnd.google.colaboratory.intrinsic+json": {
              "type": "string"
            }
          },
          "metadata": {},
          "execution_count": 4
        }
      ]
    },
    {
      "cell_type": "code",
      "source": [
        "print(capitals)"
      ],
      "metadata": {
        "colab": {
          "base_uri": "https://localhost:8080/"
        },
        "id": "kY1ttCKwumSt",
        "outputId": "39a2e6c4-9100-47be-f32c-c3fd4df1d986"
      },
      "execution_count": null,
      "outputs": [
        {
          "output_type": "stream",
          "name": "stdout",
          "text": [
            "{'France': ['Paris', 'london'], 'Spain': 'Madrid', 'United Kingdom': 'London', 'India': 'New Delhi', 'United States': 'Washington DC', 'Italy': 'Rome', 'Denmark': 'Copenhagen', 'Germany': '[Berlin,london]', 'Greece': 'Athens', 'Bulgaria': 'Sofia', 'Ireland': 'Dublin', 'Mexico': 'Mexico City'}\n"
          ]
        }
      ]
    },
    {
      "cell_type": "code",
      "source": [
        "print(capitals.items())"
      ],
      "metadata": {
        "colab": {
          "base_uri": "https://localhost:8080/"
        },
        "id": "zvsQqydZu4W3",
        "outputId": "ea1556af-d761-457f-d30f-d706b3c8c4fb"
      },
      "execution_count": null,
      "outputs": [
        {
          "output_type": "stream",
          "name": "stdout",
          "text": [
            "dict_items([('France', ['Paris', 'london']), ('Spain', 'Madrid'), ('United Kingdom', 'London'), ('India', 'New Delhi'), ('United States', 'Washington DC'), ('Italy', 'Rome'), ('Denmark', 'Copenhagen'), ('Germany', '[Berlin,london]'), ('Greece', 'Athens'), ('Bulgaria', 'Sofia'), ('Ireland', 'Dublin'), ('Mexico', 'Mexico City')])\n"
          ]
        }
      ]
    },
    {
      "cell_type": "code",
      "source": [
        "for country in capitals:\n",
        "  print(country)"
      ],
      "metadata": {
        "id": "6AJSAqZ_TESK",
        "outputId": "d2838fc0-2edd-45bf-c004-d33373ec3bcb",
        "colab": {
          "base_uri": "https://localhost:8080/"
        }
      },
      "execution_count": null,
      "outputs": [
        {
          "output_type": "stream",
          "name": "stdout",
          "text": [
            "France\n",
            "Spain\n",
            "United Kingdom\n",
            "India\n",
            "United States\n",
            "Italy\n",
            "Denmark\n",
            "Germany\n",
            "Greece\n",
            "Bulgaria\n",
            "Ireland\n",
            "Mexico\n"
          ]
        }
      ]
    },
    {
      "cell_type": "code",
      "source": [
        "for country,city in capitals.items():\n",
        "  print(f'the capitals of {country} is {city}')"
      ],
      "metadata": {
        "id": "1iABtSHiWBRh",
        "outputId": "fa835485-b3e6-4471-9661-2d8ee883d192",
        "colab": {
          "base_uri": "https://localhost:8080/"
        }
      },
      "execution_count": null,
      "outputs": [
        {
          "output_type": "stream",
          "name": "stdout",
          "text": [
            "the capitals of France is ['Paris', 'london']\n",
            "the capitals of Spain is Madrid\n",
            "the capitals of United Kingdom is London\n",
            "the capitals of India is New Delhi\n",
            "the capitals of United States is Washington DC\n",
            "the capitals of Italy is Rome\n",
            "the capitals of Denmark is Copenhagen\n",
            "the capitals of Germany is [Berlin,london]\n",
            "the capitals of Greece is Athens\n",
            "the capitals of Bulgaria is Sofia\n",
            "the capitals of Ireland is Dublin\n",
            "the capitals of Mexico is Mexico City\n"
          ]
        }
      ]
    },
    {
      "cell_type": "code",
      "source": [
        "print(capitals.keys())"
      ],
      "metadata": {
        "id": "VNWKtPrvWmxX",
        "outputId": "1e676633-83ff-4b46-a10e-bff295ea0c0a",
        "colab": {
          "base_uri": "https://localhost:8080/"
        }
      },
      "execution_count": null,
      "outputs": [
        {
          "output_type": "stream",
          "name": "stdout",
          "text": [
            "dict_keys(['France', 'Spain', 'United Kingdom', 'India', 'United States', 'Italy', 'Denmark', 'Germany', 'Greece', 'Bulgaria', 'Ireland', 'Mexico'])\n"
          ]
        }
      ]
    },
    {
      "cell_type": "code",
      "source": [
        "print(capitals.values())"
      ],
      "metadata": {
        "id": "fXsylIKGWu-E",
        "outputId": "5b4a2c73-be38-4057-e6b8-811e4b5b48da",
        "colab": {
          "base_uri": "https://localhost:8080/"
        }
      },
      "execution_count": 29,
      "outputs": [
        {
          "output_type": "stream",
          "name": "stdout",
          "text": [
            "dict_values(['Paris', 'Madrid', 'London', 'New Delhi', 'Washington DC', 'Rome', 'Copenhagen', '[Berlin,london]', 'Athens', 'Sofia', 'Dublin', 'Mexico City'])\n"
          ]
        }
      ]
    },
    {
      "cell_type": "code",
      "source": [
        "if 'France' in capitals.items():\n",
        "  print('the contains is France')\n",
        "else:\n",
        "  print('dosent contain France')  "
      ],
      "metadata": {
        "id": "9eYtgjdKW3iD",
        "outputId": "63aa00db-e413-4540-88d3-898c666bf5ca",
        "colab": {
          "base_uri": "https://localhost:8080/"
        }
      },
      "execution_count": 30,
      "outputs": [
        {
          "output_type": "stream",
          "name": "stdout",
          "text": [
            "dosent contain France\n"
          ]
        }
      ]
    },
    {
      "cell_type": "code",
      "source": [
        "x = 'France'\n",
        "if x.lower() in capitals:\n",
        "  print('dict contains France')\n",
        "else:\n",
        "  print('dosent contain France')"
      ],
      "metadata": {
        "id": "LufIM8mxX5Qq",
        "outputId": "64c0eea9-1adb-4ad6-aa5a-29911689edfa",
        "colab": {
          "base_uri": "https://localhost:8080/"
        }
      },
      "execution_count": 33,
      "outputs": [
        {
          "output_type": "stream",
          "name": "stdout",
          "text": [
            "dict contains France\n"
          ]
        }
      ]
    },
    {
      "cell_type": "code",
      "source": [
        "L = [1,2,3,4,5,6]\n",
        "print(4 in L)"
      ],
      "metadata": {
        "id": "5vdbC-sqZNpp",
        "outputId": "9376a4e9-2249-49c9-a433-f7057c5a031d",
        "colab": {
          "base_uri": "https://localhost:8080/"
        }
      },
      "execution_count": 34,
      "outputs": [
        {
          "output_type": "stream",
          "name": "stdout",
          "text": [
            "True\n"
          ]
        }
      ]
    },
    {
      "cell_type": "code",
      "source": [
        "sherlock = '''\n",
        "Mr. Sherlock Holmes, who was usually very late in the mornings, save upon those not infrequent occasions when he was up all night, was seated at the breakfast table. I stood upon the hearth-rug and picked up the stick which our visitor had left behind him the night before. It was a fine, thick piece of wood, bulbous-headed, of the sort which is known as a “Penang lawyer.” Just under the head was a broad silver band nearly an inch across. “To James Mortimer, M.R.C.S., from his friends of the C.C.H.,” was engraved upon it, with the date “1884.” It was just such a stick as the old-fashioned family practitioner used to carry—dignified, solid, and reassuring.\n",
        "\n",
        "“Well, Watson, what do you make of it?”\n",
        "\n",
        "Holmes was sitting with his back to me, and I had given him no sign of my occupation.\n",
        "\n",
        "“How did you know what I was doing? I believe you have eyes in the back of your head.”\n",
        "\n",
        "“I have, at least, a well-polished, silver-plated coffee-pot in front of me,” said he. “But, tell me, Watson, what do you make of our visitor’s stick? Since we have been so unfortunate as to miss him and have no notion of his errand, this accidental souvenir becomes of importance. Let me hear you reconstruct the man by an examination of it.”\n",
        "\n",
        "“I think,” said I, following as far as I could the methods of my companion, “that Dr. Mortimer is a successful, elderly medical man, well-esteemed since those who know him give him this mark of their appreciation.”\n",
        "\n",
        "“Good!” said Holmes. “Excellent!”\n",
        "\n",
        "“I think also that the probability is in favour of his being a country practitioner who does a great deal of his visiting on foot.”\n",
        "\n",
        "“Why so?”\n",
        "\n",
        "“Because this stick, though originally a very handsome one has been so knocked about that I can hardly imagine a town practitioner carrying it. The thick-iron ferrule is worn down, so it is evident that he has done a great amount of walking with it.”\n",
        "\n",
        "“Perfectly sound!” said Holmes.\n",
        "\n",
        "“And then again, there is the ‘friends of the C.C.H.’ I should guess that to be the Something Hunt, the local hunt to whose members he has possibly given some surgical assistance, and which has made him a small presentation in return.”\n",
        "\n",
        "“Really, Watson, you excel yourself,” said Holmes, pushing back his chair and lighting a cigarette. “I am bound to say that in all the accounts which you have been so good as to give of my own small achievements you have habitually underrated your own abilities. It may be that you are not yourself luminous, but you are a conductor of light. Some people without possessing genius have a remarkable power of stimulating it. I confess, my dear fellow, that I am very much in your debt.”\n",
        "\n",
        "He had never said as much before, and I must admit that his words gave me keen pleasure, for I had often been piqued by his indifference to my admiration and to the attempts which I had made to give publicity to his methods. I was proud, too, to think that I had so far mastered his system as to apply it in a way which earned his approval. He now took the stick from my hands and examined it for a few minutes with his naked eyes. Then with an expression of interest he laid down his cigarette, and carrying the cane to the window, he looked over it again with a convex lens.\n",
        "'''\n",
        "\n",
        "letter_count = {}\n",
        "for  letter in sherlock:\n",
        "  letter_count[letter.lower()] = letter_count.get(letter,0)+1 #get(key,value)\n",
        "letter_count['m'] = 1\n",
        "print(letter_count)"
      ],
      "metadata": {
        "id": "s0BfhjGWaLTW",
        "outputId": "9c965f3a-a2b1-40b9-a84f-a58dbbbf6c30",
        "colab": {
          "base_uri": "https://localhost:8080/"
        }
      },
      "execution_count": 39,
      "outputs": [
        {
          "output_type": "stream",
          "name": "stdout",
          "text": [
            "{'\\n': 28, 'm': 1, 'r': 37, '.': 39, ' ': 569, 's': 37, 'h': 13, 'e': 142, 'l': 58, 'o': 199, 'c': 27, 'k': 30, ',': 46, 'w': 20, 'a': 91, 'u': 77, 'y': 51, 'v': 32, 't': 11, 'i': 23, 'n': 160, 'g': 30, 'p': 18, 'f': 56, 'q': 2, 'd': 56, 'b': 19, '-': 8, '“': 18, '”': 18, 'j': 2, '1': 1, '8': 2, '4': 1, '—': 1, '?': 4, '’': 2, 'x': 6, '!': 3, '‘': 1}\n"
          ]
        }
      ]
    },
    {
      "cell_type": "code",
      "source": [
        "import matplotlib.pyplot as plt\n",
        "\n",
        "\n",
        "a,b = zip(*letter_count.items())# zip function unpacks the data from the dictionaries and then we cann access data to make a plot and other modules, and \"a\" displays Key and \"b\" displays all values"
      ],
      "metadata": {
        "id": "N4X243gVcwzj"
      },
      "execution_count": 40,
      "outputs": []
    },
    {
      "cell_type": "code",
      "source": [
        "plt.bar(a,b)\n",
        "plt.show()"
      ],
      "metadata": {
        "id": "fot2YEP-eNAk",
        "outputId": "797bd4f2-d2ff-4620-967a-a595d75f1436",
        "colab": {
          "base_uri": "https://localhost:8080/",
          "height": 265
        }
      },
      "execution_count": 43,
      "outputs": [
        {
          "output_type": "display_data",
          "data": {
            "text/plain": [
              "<Figure size 432x288 with 1 Axes>"
            ],
            "image/png": "[encoded data removed]"
          },
          "metadata": {
            "needs_background": "light"
          }
        }
      ]
    },
    {
      "cell_type": "markdown",
      "source": [
        "We can clean up the spaces, punctuation marks and other things with the below functions."
      ],
      "metadata": {
        "id": "XH94Ta3Eepzc"
      }
    },
    {
      "cell_type": "code",
      "source": [
        "letter_count_clean = {}\n",
        "\n",
        "for k,v in letter_count.items():\n",
        "  if k.isalpha():\n",
        "    letter_count_clean[k] = v\n",
        "\n",
        "print(letter_count_clean)\n",
        "\n",
        "a,b = zip(*letter_count_clean.items())\n",
        "plt.bar(a,b)\n",
        "plt.show"
      ],
      "metadata": {
        "id": "FDdYQH1NfJbC",
        "outputId": "6ec90d89-db63-4d84-a08a-d37b2093ac65",
        "colab": {
          "base_uri": "https://localhost:8080/",
          "height": 320
        }
      },
      "execution_count": 46,
      "outputs": [
        {
          "output_type": "stream",
          "name": "stdout",
          "text": [
            "{'m': 1, 'r': 37, 's': 37, 'h': 13, 'e': 142, 'l': 58, 'o': 199, 'c': 27, 'k': 30, 'w': 20, 'a': 91, 'u': 77, 'y': 51, 'v': 32, 't': 11, 'i': 23, 'n': 160, 'g': 30, 'p': 18, 'f': 56, 'q': 2, 'd': 56, 'b': 19, 'j': 2, 'x': 6}\n"
          ]
        },
        {
          "output_type": "execute_result",
          "data": {
            "text/plain": [
              "<function matplotlib.pyplot.show>"
            ]
          },
          "metadata": {},
          "execution_count": 46
        },
        {
          "output_type": "display_data",
          "data": {
            "text/plain": [
              "<Figure size 432x288 with 1 Axes>"
            ],
            "image/png": "[encoded data removed]"
          },
          "metadata": {
            "needs_background": "light"
          }
        }
      ]
    },
    {
      "cell_type": "code",
      "source": [
        "my_list1= [1,2,3,4,5]\n",
        "my_list2 = ['a','b','c','d','e']\n",
        "\n",
        "joined = list(zip(my_list1,my_list2))\n",
        "print(f'the result of the function is {joined} and type is {type(joined)}')"
      ],
      "metadata": {
        "id": "aaNH2J0Sgbo4",
        "outputId": "d20b7fdf-02c7-4760-997d-637692e89992",
        "colab": {
          "base_uri": "https://localhost:8080/"
        }
      },
      "execution_count": 50,
      "outputs": [
        {
          "output_type": "stream",
          "name": "stdout",
          "text": [
            "the result of the function is [(1, 'a'), (2, 'b'), (3, 'c'), (4, 'd'), (5, 'e')] and type is <class 'list'>\n"
          ]
        }
      ]
    },
    {
      "cell_type": "code",
      "source": [
        "i,j = zip(*joined)\n",
        "i"
      ],
      "metadata": {
        "id": "-cgSBAcUjreb",
        "outputId": "47d9e0a6-bf72-4e78-bfd6-813640044265",
        "colab": {
          "base_uri": "https://localhost:8080/"
        }
      },
      "execution_count": 54,
      "outputs": [
        {
          "output_type": "execute_result",
          "data": {
            "text/plain": [
              "(1, 2, 3, 4, 5)"
            ]
          },
          "metadata": {},
          "execution_count": 54
        }
      ]
    },
    {
      "cell_type": "code",
      "source": [
        "new_Words = sherlock.split(\" \")\n",
        "print(new_Words)"
      ],
      "metadata": {
        "id": "fk9jBpxzksLm",
        "outputId": "1c467a3b-f4ad-4fae-95ae-9b4cab2a56c6",
        "colab": {
          "base_uri": "https://localhost:8080/"
        }
      },
      "execution_count": 56,
      "outputs": [
        {
          "output_type": "stream",
          "name": "stdout",
          "text": [
            "['\\nMr.', 'Sherlock', 'Holmes,', 'who', 'was', 'usually', 'very', 'late', 'in', 'the', 'mornings,', 'save', 'upon', 'those', 'not', 'infrequent', 'occasions', 'when', 'he', 'was', 'up', 'all', 'night,', 'was', 'seated', 'at', 'the', 'breakfast', 'table.', 'I', 'stood', 'upon', 'the', 'hearth-rug', 'and', 'picked', 'up', 'the', 'stick', 'which', 'our', 'visitor', 'had', 'left', 'behind', 'him', 'the', 'night', 'before.', 'It', 'was', 'a', 'fine,', 'thick', 'piece', 'of', 'wood,', 'bulbous-headed,', 'of', 'the', 'sort', 'which', 'is', 'known', 'as', 'a', '“Penang', 'lawyer.”', 'Just', 'under', 'the', 'head', 'was', 'a', 'broad', 'silver', 'band', 'nearly', 'an', 'inch', 'across.', '“To', 'James', 'Mortimer,', 'M.R.C.S.,', 'from', 'his', 'friends', 'of', 'the', 'C.C.H.,”', 'was', 'engraved', 'upon', 'it,', 'with', 'the', 'date', '“1884.”', 'It', 'was', 'just', 'such', 'a', 'stick', 'as', 'the', 'old-fashioned', 'family', 'practitioner', 'used', 'to', 'carry—dignified,', 'solid,', 'and', 'reassuring.\\n\\n“Well,', 'Watson,', 'what', 'do', 'you', 'make', 'of', 'it?”\\n\\nHolmes', 'was', 'sitting', 'with', 'his', 'back', 'to', 'me,', 'and', 'I', 'had', 'given', 'him', 'no', 'sign', 'of', 'my', 'occupation.\\n\\n“How', 'did', 'you', 'know', 'what', 'I', 'was', 'doing?', 'I', 'believe', 'you', 'have', 'eyes', 'in', 'the', 'back', 'of', 'your', 'head.”\\n\\n“I', 'have,', 'at', 'least,', 'a', 'well-polished,', 'silver-plated', 'coffee-pot', 'in', 'front', 'of', 'me,”', 'said', 'he.', '“But,', 'tell', 'me,', 'Watson,', 'what', 'do', 'you', 'make', 'of', 'our', 'visitor’s', 'stick?', 'Since', 'we', 'have', 'been', 'so', 'unfortunate', 'as', 'to', 'miss', 'him', 'and', 'have', 'no', 'notion', 'of', 'his', 'errand,', 'this', 'accidental', 'souvenir', 'becomes', 'of', 'importance.', 'Let', 'me', 'hear', 'you', 'reconstruct', 'the', 'man', 'by', 'an', 'examination', 'of', 'it.”\\n\\n“I', 'think,”', 'said', 'I,', 'following', 'as', 'far', 'as', 'I', 'could', 'the', 'methods', 'of', 'my', 'companion,', '“that', 'Dr.', 'Mortimer', 'is', 'a', 'successful,', 'elderly', 'medical', 'man,', 'well-esteemed', 'since', 'those', 'who', 'know', 'him', 'give', 'him', 'this', 'mark', 'of', 'their', 'appreciation.”\\n\\n“Good!”', 'said', 'Holmes.', '“Excellent!”\\n\\n“I', 'think', 'also', 'that', 'the', 'probability', 'is', 'in', 'favour', 'of', 'his', 'being', 'a', 'country', 'practitioner', 'who', 'does', 'a', 'great', 'deal', 'of', 'his', 'visiting', 'on', 'foot.”\\n\\n“Why', 'so?”\\n\\n“Because', 'this', 'stick,', 'though', 'originally', 'a', 'very', 'handsome', 'one', 'has', 'been', 'so', 'knocked', 'about', 'that', 'I', 'can', 'hardly', 'imagine', 'a', 'town', 'practitioner', 'carrying', 'it.', 'The', 'thick-iron', 'ferrule', 'is', 'worn', 'down,', 'so', 'it', 'is', 'evident', 'that', 'he', 'has', 'done', 'a', 'great', 'amount', 'of', 'walking', 'with', 'it.”\\n\\n“Perfectly', 'sound!”', 'said', 'Holmes.\\n\\n“And', 'then', 'again,', 'there', 'is', 'the', '‘friends', 'of', 'the', 'C.C.H.’', 'I', 'should', 'guess', 'that', 'to', 'be', 'the', 'Something', 'Hunt,', 'the', 'local', 'hunt', 'to', 'whose', 'members', 'he', 'has', 'possibly', 'given', 'some', 'surgical', 'assistance,', 'and', 'which', 'has', 'made', 'him', 'a', 'small', 'presentation', 'in', 'return.”\\n\\n“Really,', 'Watson,', 'you', 'excel', 'yourself,”', 'said', 'Holmes,', 'pushing', 'back', 'his', 'chair', 'and', 'lighting', 'a', 'cigarette.', '“I', 'am', 'bound', 'to', 'say', 'that', 'in', 'all', 'the', 'accounts', 'which', 'you', 'have', 'been', 'so', 'good', 'as', 'to', 'give', 'of', 'my', 'own', 'small', 'achievements', 'you', 'have', 'habitually', 'underrated', 'your', 'own', 'abilities.', 'It', 'may', 'be', 'that', 'you', 'are', 'not', 'yourself', 'luminous,', 'but', 'you', 'are', 'a', 'conductor', 'of', 'light.', 'Some', 'people', 'without', 'possessing', 'genius', 'have', 'a', 'remarkable', 'power', 'of', 'stimulating', 'it.', 'I', 'confess,', 'my', 'dear', 'fellow,', 'that', 'I', 'am', 'very', 'much', 'in', 'your', 'debt.”\\n\\nHe', 'had', 'never', 'said', 'as', 'much', 'before,', 'and', 'I', 'must', 'admit', 'that', 'his', 'words', 'gave', 'me', 'keen', 'pleasure,', 'for', 'I', 'had', 'often', 'been', 'piqued', 'by', 'his', 'indifference', 'to', 'my', 'admiration', 'and', 'to', 'the', 'attempts', 'which', 'I', 'had', 'made', 'to', 'give', 'publicity', 'to', 'his', 'methods.', 'I', 'was', 'proud,', 'too,', 'to', 'think', 'that', 'I', 'had', 'so', 'far', 'mastered', 'his', 'system', 'as', 'to', 'apply', 'it', 'in', 'a', 'way', 'which', 'earned', 'his', 'approval.', 'He', 'now', 'took', 'the', 'stick', 'from', 'my', 'hands', 'and', 'examined', 'it', 'for', 'a', 'few', 'minutes', 'with', 'his', 'naked', 'eyes.', 'Then', 'with', 'an', 'expression', 'of', 'interest', 'he', 'laid', 'down', 'his', 'cigarette,', 'and', 'carrying', 'the', 'cane', 'to', 'the', 'window,', 'he', 'looked', 'over', 'it', 'again', 'with', 'a', 'convex', 'lens.\\n']\n"
          ]
        }
      ]
    },
    {
      "cell_type": "code",
      "source": [
        "for i in range(len(new_Words)):\n",
        "  new_Words[i] = new_Words[i].strip('\\n')# strip(\"\\n\") removes the character and letter in side the \" \" or will defaultly remove space in between if nothing is specified\n",
        "\n",
        "print(new_Words)"
      ],
      "metadata": {
        "id": "aOtNvXsBmnLL",
        "outputId": "f1f773d7-dd44-48c7-ecae-4098b9270470",
        "colab": {
          "base_uri": "https://localhost:8080/"
        }
      },
      "execution_count": 60,
      "outputs": [
        {
          "output_type": "stream",
          "name": "stdout",
          "text": [
            "['Mr.', 'Sherlock', 'Holmes,', 'who', 'was', 'usually', 'very', 'late', 'in', 'the', 'mornings,', 'save', 'upon', 'those', 'not', 'infrequent', 'occasions', 'when', 'he', 'was', 'up', 'all', 'night,', 'was', 'seated', 'at', 'the', 'breakfast', 'table.', 'I', 'stood', 'upon', 'the', 'hearth-rug', 'and', 'picked', 'up', 'the', 'stick', 'which', 'our', 'visitor', 'had', 'left', 'behind', 'him', 'the', 'night', 'before.', 'It', 'was', 'a', 'fine,', 'thick', 'piece', 'of', 'wood,', 'bulbous-headed,', 'of', 'the', 'sort', 'which', 'is', 'known', 'as', 'a', '“Penang', 'lawyer.”', 'Just', 'under', 'the', 'head', 'was', 'a', 'broad', 'silver', 'band', 'nearly', 'an', 'inch', 'across.', '“To', 'James', 'Mortimer,', 'M.R.C.S.,', 'from', 'his', 'friends', 'of', 'the', 'C.C.H.,”', 'was', 'engraved', 'upon', 'it,', 'with', 'the', 'date', '“1884.”', 'It', 'was', 'just', 'such', 'a', 'stick', 'as', 'the', 'old-fashioned', 'family', 'practitioner', 'used', 'to', 'carry—dignified,', 'solid,', 'and', 'reassuring.\\n\\n“Well,', 'Watson,', 'what', 'do', 'you', 'make', 'of', 'it?”\\n\\nHolmes', 'was', 'sitting', 'with', 'his', 'back', 'to', 'me,', 'and', 'I', 'had', 'given', 'him', 'no', 'sign', 'of', 'my', 'occupation.\\n\\n“How', 'did', 'you', 'know', 'what', 'I', 'was', 'doing?', 'I', 'believe', 'you', 'have', 'eyes', 'in', 'the', 'back', 'of', 'your', 'head.”\\n\\n“I', 'have,', 'at', 'least,', 'a', 'well-polished,', 'silver-plated', 'coffee-pot', 'in', 'front', 'of', 'me,”', 'said', 'he.', '“But,', 'tell', 'me,', 'Watson,', 'what', 'do', 'you', 'make', 'of', 'our', 'visitor’s', 'stick?', 'Since', 'we', 'have', 'been', 'so', 'unfortunate', 'as', 'to', 'miss', 'him', 'and', 'have', 'no', 'notion', 'of', 'his', 'errand,', 'this', 'accidental', 'souvenir', 'becomes', 'of', 'importance.', 'Let', 'me', 'hear', 'you', 'reconstruct', 'the', 'man', 'by', 'an', 'examination', 'of', 'it.”\\n\\n“I', 'think,”', 'said', 'I,', 'following', 'as', 'far', 'as', 'I', 'could', 'the', 'methods', 'of', 'my', 'companion,', '“that', 'Dr.', 'Mortimer', 'is', 'a', 'successful,', 'elderly', 'medical', 'man,', 'well-esteemed', 'since', 'those', 'who', 'know', 'him', 'give', 'him', 'this', 'mark', 'of', 'their', 'appreciation.”\\n\\n“Good!”', 'said', 'Holmes.', '“Excellent!”\\n\\n“I', 'think', 'also', 'that', 'the', 'probability', 'is', 'in', 'favour', 'of', 'his', 'being', 'a', 'country', 'practitioner', 'who', 'does', 'a', 'great', 'deal', 'of', 'his', 'visiting', 'on', 'foot.”\\n\\n“Why', 'so?”\\n\\n“Because', 'this', 'stick,', 'though', 'originally', 'a', 'very', 'handsome', 'one', 'has', 'been', 'so', 'knocked', 'about', 'that', 'I', 'can', 'hardly', 'imagine', 'a', 'town', 'practitioner', 'carrying', 'it.', 'The', 'thick-iron', 'ferrule', 'is', 'worn', 'down,', 'so', 'it', 'is', 'evident', 'that', 'he', 'has', 'done', 'a', 'great', 'amount', 'of', 'walking', 'with', 'it.”\\n\\n“Perfectly', 'sound!”', 'said', 'Holmes.\\n\\n“And', 'then', 'again,', 'there', 'is', 'the', '‘friends', 'of', 'the', 'C.C.H.’', 'I', 'should', 'guess', 'that', 'to', 'be', 'the', 'Something', 'Hunt,', 'the', 'local', 'hunt', 'to', 'whose', 'members', 'he', 'has', 'possibly', 'given', 'some', 'surgical', 'assistance,', 'and', 'which', 'has', 'made', 'him', 'a', 'small', 'presentation', 'in', 'return.”\\n\\n“Really,', 'Watson,', 'you', 'excel', 'yourself,”', 'said', 'Holmes,', 'pushing', 'back', 'his', 'chair', 'and', 'lighting', 'a', 'cigarette.', '“I', 'am', 'bound', 'to', 'say', 'that', 'in', 'all', 'the', 'accounts', 'which', 'you', 'have', 'been', 'so', 'good', 'as', 'to', 'give', 'of', 'my', 'own', 'small', 'achievements', 'you', 'have', 'habitually', 'underrated', 'your', 'own', 'abilities.', 'It', 'may', 'be', 'that', 'you', 'are', 'not', 'yourself', 'luminous,', 'but', 'you', 'are', 'a', 'conductor', 'of', 'light.', 'Some', 'people', 'without', 'possessing', 'genius', 'have', 'a', 'remarkable', 'power', 'of', 'stimulating', 'it.', 'I', 'confess,', 'my', 'dear', 'fellow,', 'that', 'I', 'am', 'very', 'much', 'in', 'your', 'debt.”\\n\\nHe', 'had', 'never', 'said', 'as', 'much', 'before,', 'and', 'I', 'must', 'admit', 'that', 'his', 'words', 'gave', 'me', 'keen', 'pleasure,', 'for', 'I', 'had', 'often', 'been', 'piqued', 'by', 'his', 'indifference', 'to', 'my', 'admiration', 'and', 'to', 'the', 'attempts', 'which', 'I', 'had', 'made', 'to', 'give', 'publicity', 'to', 'his', 'methods.', 'I', 'was', 'proud,', 'too,', 'to', 'think', 'that', 'I', 'had', 'so', 'far', 'mastered', 'his', 'system', 'as', 'to', 'apply', 'it', 'in', 'a', 'way', 'which', 'earned', 'his', 'approval.', 'He', 'now', 'took', 'the', 'stick', 'from', 'my', 'hands', 'and', 'examined', 'it', 'for', 'a', 'few', 'minutes', 'with', 'his', 'naked', 'eyes.', 'Then', 'with', 'an', 'expression', 'of', 'interest', 'he', 'laid', 'down', 'his', 'cigarette,', 'and', 'carrying', 'the', 'cane', 'to', 'the', 'window,', 'he', 'looked', 'over', 'it', 'again', 'with', 'a', 'convex', 'lens.']\n"
          ]
        }
      ]
    },
    {
      "cell_type": "code",
      "source": [
        "for i in range(len(new_Words)):\n",
        "  new_Words[i] = new_Words[i].strip('\\ninnot ')# strip(\"\\n\") removes the character and letter in side the \" \" or will defaultly remove space in between if nothing is specified\n",
        "\n",
        "print(new_Words)"
      ],
      "metadata": {
        "id": "LN0f_MJYnNzm",
        "outputId": "0abc40cf-eeec-45a9-a982-8bd7a29ca07e",
        "colab": {
          "base_uri": "https://localhost:8080/"
        }
      },
      "execution_count": 62,
      "outputs": [
        {
          "output_type": "stream",
          "name": "stdout",
          "text": [
            "['Mr.', 'Sherlock', 'Holmes,', 'wh', 'was', 'usually', 'very', 'late', '', 'he', 'mornings,', 'save', 'up', 'hose', '', 'freque', 'ccasions', 'whe', 'he', 'was', 'up', 'all', 'ght,', 'was', 'seated', 'a', 'he', 'breakfas', 'able.', 'I', 'stood', 'up', 'he', 'hearth-rug', 'and', 'picked', 'up', 'he', 'stick', 'which', 'ur', 'visitor', 'had', 'lef', 'behind', 'him', 'he', 'gh', 'before.', 'I', 'was', 'a', 'fine,', 'hick', 'piece', 'f', 'wood,', 'bulbous-headed,', 'f', 'he', 'sor', 'which', 's', 'know', 'as', 'a', '“Penang', 'lawyer.”', 'Jus', 'under', 'he', 'head', 'was', 'a', 'broad', 'silver', 'band', 'early', 'a', 'ch', 'across.', '“T', 'James', 'Mortimer,', 'M.R.C.S.,', 'from', 'his', 'friends', 'f', 'he', 'C.C.H.,”', 'was', 'engraved', 'up', ',', 'with', 'he', 'date', '“1884.”', 'I', 'was', 'jus', 'such', 'a', 'stick', 'as', 'he', 'ld-fashioned', 'family', 'practitioner', 'used', '', 'carry—dignified,', 'solid,', 'and', 'reassuring.\\n\\n“Well,', 'Watson,', 'wha', 'd', 'you', 'make', 'f', '?”\\n\\nHolmes', 'was', 'sitting', 'with', 'his', 'back', '', 'me,', 'and', 'I', 'had', 'give', 'him', '', 'sig', 'f', 'my', 'ccupation.\\n\\n“How', 'did', 'you', 'know', 'wha', 'I', 'was', 'doing?', 'I', 'believe', 'you', 'have', 'eyes', '', 'he', 'back', 'f', 'your', 'head.”\\n\\n“I', 'have,', 'a', 'least,', 'a', 'well-polished,', 'silver-plated', 'coffee-p', '', 'fr', 'f', 'me,”', 'said', 'he.', '“But,', 'ell', 'me,', 'Watson,', 'wha', 'd', 'you', 'make', 'f', 'ur', 'visitor’s', 'stick?', 'Since', 'we', 'have', 'bee', 's', 'unfortunate', 'as', '', 'miss', 'him', 'and', 'have', '', '', 'f', 'his', 'errand,', 'his', 'accidental', 'souvenir', 'becomes', 'f', 'mportance.', 'Le', 'me', 'hear', 'you', 'reconstruc', 'he', 'ma', 'by', 'a', 'examina', 'f', '.”\\n\\n“I', 'hink,”', 'said', 'I,', 'following', 'as', 'far', 'as', 'I', 'could', 'he', 'methods', 'f', 'my', 'companion,', '“tha', 'Dr.', 'Mortimer', 's', 'a', 'successful,', 'elderly', 'medical', 'man,', 'well-esteemed', 'since', 'hose', 'wh', 'know', 'him', 'give', 'him', 'his', 'mark', 'f', 'heir', 'appreciation.”\\n\\n“Good!”', 'said', 'Holmes.', '“Excellent!”\\n\\n“I', 'hink', 'als', 'ha', 'he', 'probability', 's', '', 'favour', 'f', 'his', 'being', 'a', 'country', 'practitioner', 'wh', 'does', 'a', 'grea', 'deal', 'f', 'his', 'visiting', '', 'foot.”\\n\\n“Why', 'so?”\\n\\n“Because', 'his', 'stick,', 'hough', 'riginally', 'a', 'very', 'handsome', 'e', 'has', 'bee', 's', 'knocked', 'abou', 'ha', 'I', 'ca', 'hardly', 'magine', 'a', 'w', 'practitioner', 'carrying', '.', 'The', 'hick-ir', 'ferrule', 's', 'wor', 'down,', 's', '', 's', 'evide', 'ha', 'he', 'has', 'done', 'a', 'grea', 'amou', 'f', 'walking', 'with', '.”\\n\\n“Perfectly', 'sound!”', 'said', 'Holmes.\\n\\n“And', 'he', 'again,', 'here', 's', 'he', '‘friends', 'f', 'he', 'C.C.H.’', 'I', 'should', 'guess', 'ha', '', 'be', 'he', 'Something', 'Hunt,', 'he', 'local', 'hu', '', 'whose', 'members', 'he', 'has', 'possibly', 'give', 'some', 'surgical', 'assistance,', 'and', 'which', 'has', 'made', 'him', 'a', 'small', 'presenta', '', 'return.”\\n\\n“Really,', 'Watson,', 'you', 'excel', 'yourself,”', 'said', 'Holmes,', 'pushing', 'back', 'his', 'chair', 'and', 'lighting', 'a', 'cigarette.', '“I', 'am', 'bound', '', 'say', 'ha', '', 'all', 'he', 'accounts', 'which', 'you', 'have', 'bee', 's', 'good', 'as', '', 'give', 'f', 'my', 'w', 'small', 'achievements', 'you', 'have', 'habitually', 'underrated', 'your', 'w', 'abilities.', 'I', 'may', 'be', 'ha', 'you', 'are', '', 'yourself', 'luminous,', 'bu', 'you', 'are', 'a', 'conductor', 'f', 'light.', 'Some', 'people', 'withou', 'possessing', 'genius', 'have', 'a', 'remarkable', 'power', 'f', 'stimulating', '.', 'I', 'confess,', 'my', 'dear', 'fellow,', 'ha', 'I', 'am', 'very', 'much', '', 'your', 'debt.”\\n\\nHe', 'had', 'ever', 'said', 'as', 'much', 'before,', 'and', 'I', 'mus', 'adm', 'ha', 'his', 'words', 'gave', 'me', 'kee', 'pleasure,', 'for', 'I', 'had', 'fte', 'bee', 'piqued', 'by', 'his', 'difference', '', 'my', 'admira', 'and', '', 'he', 'attempts', 'which', 'I', 'had', 'made', '', 'give', 'publicity', '', 'his', 'methods.', 'I', 'was', 'proud,', ',', '', 'hink', 'ha', 'I', 'had', 's', 'far', 'mastered', 'his', 'system', 'as', '', 'apply', '', '', 'a', 'way', 'which', 'earned', 'his', 'approval.', 'He', 'w', 'k', 'he', 'stick', 'from', 'my', 'hands', 'and', 'examined', '', 'for', 'a', 'few', 'minutes', 'with', 'his', 'aked', 'eyes.', 'The', 'with', 'a', 'express', 'f', 'eres', 'he', 'laid', 'dow', 'his', 'cigarette,', 'and', 'carrying', 'he', 'cane', '', 'he', 'window,', 'he', 'looked', 'ver', '', 'aga', 'with', 'a', 'convex', 'lens.']\n"
          ]
        }
      ]
    },
    {
      "cell_type": "code",
      "source": [
        "if 'Sherlock' in new_Words:\n",
        "  print(f\"yes the word is present:  {'sherlock'}\")"
      ],
      "metadata": {
        "id": "nFYLt8rNn_1J",
        "outputId": "2fa7249d-8104-473b-96ca-979f2773938c",
        "colab": {
          "base_uri": "https://localhost:8080/"
        }
      },
      "execution_count": 67,
      "outputs": [
        {
          "output_type": "stream",
          "name": "stdout",
          "text": [
            "yes the word is present:  sherlock\n"
          ]
        }
      ]
    }
  ]
}