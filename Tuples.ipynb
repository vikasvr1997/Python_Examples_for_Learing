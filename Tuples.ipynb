{
  "nbformat": 4,
  "nbformat_minor": 0,
  "metadata": {
    "colab": {
      "name": "Tuples.ipynb",
      "provenance": [],
      "authorship_tag": "ABX9TyP38IIr1ot00A8zRNrwv2Hq",
      "include_colab_link": true
    },
    "kernelspec": {
      "name": "python3",
      "display_name": "Python 3"
    },
    "language_info": {
      "name": "python"
    }
  },
  "cells": [
    {
      "cell_type": "markdown",
      "metadata": {
        "id": "view-in-github",
        "colab_type": "text"
      },
      "source": [
        "<a href=\"https://colab.research.google.com/github/vikasvr1997/Python_Examples_for_Learing/blob/main/Tuples.ipynb\" target=\"_parent\"><img src=\"https://colab.research.google.com/assets/colab-badge.svg\" alt=\"Open In Colab\"/></a>"
      ]
    },
    {
      "cell_type": "code",
      "execution_count": 1,
      "metadata": {
        "id": "UtI9MG3YoxG8"
      },
      "outputs": [],
      "source": [
        "my_tuple = (1,2,3,4)\n",
        "my_List = [5,6,7,8]\n",
        "my_string = 'australia'"
      ]
    },
    {
      "cell_type": "code",
      "source": [
        "my_tuple[0]"
      ],
      "metadata": {
        "colab": {
          "base_uri": "https://localhost:8080/"
        },
        "id": "TS2-2VfDpQbP",
        "outputId": "3fe6aebc-2bd9-4c4a-b205-fdccdb13a4bd"
      },
      "execution_count": 2,
      "outputs": [
        {
          "output_type": "execute_result",
          "data": {
            "text/plain": [
              "1"
            ]
          },
          "metadata": {},
          "execution_count": 2
        }
      ]
    },
    {
      "cell_type": "code",
      "source": [
        "#my_tuple[:3]# untill third element\n",
        "#my_tuple[::-3]\n",
        "print(my_List[::-2])# Lst[ Initial : End : IndexJump ]\n",
        "print(my_List[0:3])# displays elements from 0 to the second digit\n",
        "print(my_List[-3:-2])# displays the elements from -3 to -2 position all the rest\n",
        "#my_List[:]"
      ],
      "metadata": {
        "colab": {
          "base_uri": "https://localhost:8080/"
        },
        "id": "DRELdNxnpXoG",
        "outputId": "11b7d049-2897-437d-b154-427602954ed8"
      },
      "execution_count": 45,
      "outputs": [
        {
          "output_type": "stream",
          "name": "stdout",
          "text": [
            "[8, 6]\n",
            "[5, 6, 7]\n",
            "[6]\n"
          ]
        }
      ]
    },
    {
      "cell_type": "code",
      "source": [
        "my_List[0] = 1000\n",
        "print(my_List)"
      ],
      "metadata": {
        "colab": {
          "base_uri": "https://localhost:8080/"
        },
        "id": "MZTMH9pmvINr",
        "outputId": "4da3e792-6c3f-4c23-dcbd-4d1165fecb36"
      },
      "execution_count": 47,
      "outputs": [
        {
          "output_type": "stream",
          "name": "stdout",
          "text": [
            "[1000, 6, 7, 8]\n"
          ]
        }
      ]
    },
    {
      "cell_type": "code",
      "source": [
        "my_tuple[0] = 2000# will give error as tuple is immutable(unchangeable)"
      ],
      "metadata": {
        "colab": {
          "base_uri": "https://localhost:8080/",
          "height": 166
        },
        "id": "3JUzfX5axEoO",
        "outputId": "a46c7a04-d398-4b31-9a4f-93211b92de16"
      },
      "execution_count": 48,
      "outputs": [
        {
          "output_type": "error",
          "ename": "TypeError",
          "evalue": "ignored",
          "traceback": [
            "\u001b[0;31m---------------------------------------------------------------------------\u001b[0m",
            "\u001b[0;31mTypeError\u001b[0m                                 Traceback (most recent call last)",
            "\u001b[0;32m<ipython-input-48-31a64e0bbaca>\u001b[0m in \u001b[0;36m<module>\u001b[0;34m()\u001b[0m\n\u001b[0;32m----> 1\u001b[0;31m \u001b[0mmy_tuple\u001b[0m\u001b[0;34m[\u001b[0m\u001b[0;36m0\u001b[0m\u001b[0;34m]\u001b[0m \u001b[0;34m=\u001b[0m \u001b[0;36m2000\u001b[0m\u001b[0;31m# will give error as tuple is immutable(unchangeable)\u001b[0m\u001b[0;34m\u001b[0m\u001b[0;34m\u001b[0m\u001b[0m\n\u001b[0m",
            "\u001b[0;31mTypeError\u001b[0m: 'tuple' object does not support item assignment"
          ]
        }
      ]
    },
    {
      "cell_type": "markdown",
      "source": [
        "and a tuple can be used in dictionary keys so that those keys cannot be changed"
      ],
      "metadata": {
        "id": "YBei1Wn6xXwo"
      }
    },
    {
      "cell_type": "code",
      "source": [
        "my_string[4] = 'a'# strings in python are immutable"
      ],
      "metadata": {
        "colab": {
          "base_uri": "https://localhost:8080/",
          "height": 166
        },
        "id": "KPI4LrcLxPyt",
        "outputId": "129b6171-e88c-4d84-f6e0-08e80e3be802"
      },
      "execution_count": 49,
      "outputs": [
        {
          "output_type": "error",
          "ename": "TypeError",
          "evalue": "ignored",
          "traceback": [
            "\u001b[0;31m---------------------------------------------------------------------------\u001b[0m",
            "\u001b[0;31mTypeError\u001b[0m                                 Traceback (most recent call last)",
            "\u001b[0;32m<ipython-input-49-63a8190c62dc>\u001b[0m in \u001b[0;36m<module>\u001b[0;34m()\u001b[0m\n\u001b[0;32m----> 1\u001b[0;31m \u001b[0mmy_string\u001b[0m\u001b[0;34m[\u001b[0m\u001b[0;36m4\u001b[0m\u001b[0;34m]\u001b[0m \u001b[0;34m=\u001b[0m \u001b[0;34m'a'\u001b[0m\u001b[0;34m\u001b[0m\u001b[0;34m\u001b[0m\u001b[0m\n\u001b[0m",
            "\u001b[0;31mTypeError\u001b[0m: 'str' object does not support item assignment"
          ]
        }
      ]
    },
    {
      "cell_type": "markdown",
      "source": [
        "Lists are mutable\n",
        "dictionaries are mutable\n",
        "tuples and strings are immutable"
      ],
      "metadata": {
        "id": "aonL-DhCx-WE"
      }
    },
    {
      "cell_type": "markdown",
      "source": [
        "# We cann add extra dimension to a list and dictionaries, Like a list can contain a list, and a dictionary can contain a dictionary"
      ],
      "metadata": {
        "id": "Gu1VgeozyUE7"
      }
    },
    {
      "cell_type": "code",
      "source": [
        "my_list = [[1,2,3],[4,5,6],[7,8,9]]"
      ],
      "metadata": {
        "id": "je_Uwyawxx5W"
      },
      "execution_count": 50,
      "outputs": []
    },
    {
      "cell_type": "markdown",
      "source": [
        "to access the list elements we need to use the following syntax\n",
        "# list[x][y] x is inner list index, y is innner list index of the value  "
      ],
      "metadata": {
        "id": "kIL3FeDbyo1Z"
      }
    },
    {
      "cell_type": "code",
      "source": [
        "my_list[2][:]"
      ],
      "metadata": {
        "colab": {
          "base_uri": "https://localhost:8080/"
        },
        "id": "mbgEhzVAy65D",
        "outputId": "03a0c931-d6ad-4774-8758-31f1c508b2d9"
      },
      "execution_count": 70,
      "outputs": [
        {
          "output_type": "execute_result",
          "data": {
            "text/plain": [
              "[7, 8, 9]"
            ]
          },
          "metadata": {},
          "execution_count": 70
        }
      ]
    },
    {
      "cell_type": "code",
      "source": [
        "countries = {'France':{'Capital':'Paris','Language':'French'},'Spain':{'Capital':'Madrid','Language':'Spanish'},\n",
        "             'United Kingdom':{'Capital':'London','Language':'English'},\n",
        "            'United States':{'Capital':'Washington DC','Language':'English'},\n",
        "             'Italy':{'Capital':'Rome','Language':'Italian'}\n",
        "            }"
      ],
      "metadata": {
        "id": "BjyexJR00DB4"
      },
      "execution_count": 71,
      "outputs": []
    },
    {
      "cell_type": "code",
      "source": [
        "for key, value in countries.items():\n",
        "  print(key,value)\n",
        " "
      ],
      "metadata": {
        "colab": {
          "base_uri": "https://localhost:8080/"
        },
        "id": "_5VOpb4l0Rr1",
        "outputId": "350e432b-4b03-44a2-fb85-ba940382475f"
      },
      "execution_count": 73,
      "outputs": [
        {
          "output_type": "stream",
          "name": "stdout",
          "text": [
            "France {'Capital': 'Paris', 'Language': 'French'}\n",
            "the capital and  of country of France is {'Capital': 'Paris', 'Language': 'French'}\n",
            "Spain {'Capital': 'Madrid', 'Language': 'Spanish'}\n",
            "the capital and  of country of Spain is {'Capital': 'Madrid', 'Language': 'Spanish'}\n",
            "United Kingdom {'Capital': 'London', 'Language': 'English'}\n",
            "the capital and  of country of United Kingdom is {'Capital': 'London', 'Language': 'English'}\n",
            "United States {'Capital': 'Washington DC', 'Language': 'English'}\n",
            "the capital and  of country of United States is {'Capital': 'Washington DC', 'Language': 'English'}\n",
            "Italy {'Capital': 'Rome', 'Language': 'Italian'}\n",
            "the capital and  of country of Italy is {'Capital': 'Rome', 'Language': 'Italian'}\n"
          ]
        }
      ]
    },
    {
      "cell_type": "code",
      "source": [
        "for key, value in countries.items():\n",
        "  print(f'the capital and  of country of {key} is {value[\"Language\"]}.')"
      ],
      "metadata": {
        "colab": {
          "base_uri": "https://localhost:8080/"
        },
        "id": "0eDXHu8R1dUd",
        "outputId": "76c2cb5b-c833-4c36-ab8e-5ca3d98ccdf9"
      },
      "execution_count": 74,
      "outputs": [
        {
          "output_type": "stream",
          "name": "stdout",
          "text": [
            "the capital and  of country of France is French.\n",
            "the capital and  of country of Spain is Spanish.\n",
            "the capital and  of country of United Kingdom is English.\n",
            "the capital and  of country of United States is English.\n",
            "the capital and  of country of Italy is Italian.\n"
          ]
        }
      ]
    },
    {
      "cell_type": "code",
      "source": [
        "sherlock = '''\n",
        "Mr. Sherlock Holmes, who was usually very late in the mornings, save upon those not infrequent occasions when he was up all night, was seated at the breakfast table. I stood upon the hearth-rug and picked up the stick which our visitor had left behind him the night before. It was a fine, thick piece of wood, bulbous-headed, of the sort which is known as a “Penang lawyer.” Just under the head was a broad silver band nearly an inch across. “To James Mortimer, M.R.C.S., from his friends of the C.C.H.,” was engraved upon it, with the date “1884.” It was just such a stick as the old-fashioned family practitioner used to carry—dignified, solid, and reassuring.\n",
        "\n",
        "“Well, Watson, what do you make of it?”\n",
        "\n",
        "Holmes was sitting with his back to me, and I had given him no sign of my occupation.\n",
        "\n",
        "“How did you know what I was doing? I believe you have eyes in the back of your head.”\n",
        "\n",
        "“I have, at least, a well-polished, silver-plated coffee-pot in front of me,” said he. “But, tell me, Watson, what do you make of our visitor’s stick? Since we have been so unfortunate as to miss him and have no notion of his errand, this accidental souvenir becomes of importance. Let me hear you reconstruct the man by an examination of it.”\n",
        "\n",
        "“I think,” said I, following as far as I could the methods of my companion, “that Dr. Mortimer is a successful, elderly medical man, well-esteemed since those who know him give him this mark of their appreciation.”\n",
        "\n",
        "“Good!” said Holmes. “Excellent!”\n",
        "\n",
        "“I think also that the probability is in favour of his being a country practitioner who does a great deal of his visiting on foot.”\n",
        "\n",
        "“Why so?”\n",
        "\n",
        "“Because this stick, though originally a very handsome one has been so knocked about that I can hardly imagine a town practitioner carrying it. The thick-iron ferrule is worn down, so it is evident that he has done a great amount of walking with it.”\n",
        "\n",
        "“Perfectly sound!” said Holmes.\n",
        "\n",
        "“And then again, there is the ‘friends of the C.C.H.’ I should guess that to be the Something Hunt, the local hunt to whose members he has possibly given some surgical assistance, and which has made him a small presentation in return.”\n",
        "\n",
        "“Really, Watson, you excel yourself,” said Holmes, pushing back his chair and lighting a cigarette. “I am bound to say that in all the accounts which you have been so good as to give of my own small achievements you have habitually underrated your own abilities. It may be that you are not yourself luminous, but you are a conductor of light. Some people without possessing genius have a remarkable power of stimulating it. I confess, my dear fellow, that I am very much in your debt.”\n",
        "\n",
        "He had never said as much before, and I must admit that his words gave me keen pleasure, for I had often been piqued by his indifference to my admiration and to the attempts which I had made to give publicity to his methods. I was proud, too, to think that I had so far mastered his system as to apply it in a way which earned his approval. He now took the stick from my hands and examined it for a few minutes with his naked eyes. Then with an expression of interest he laid down his cigarette, and carrying the cane to the window, he looked over it again with a convex lens.\n",
        "'''\n"
      ],
      "metadata": {
        "id": "9ZpTz6Zf2Vwi"
      },
      "execution_count": 75,
      "outputs": []
    },
    {
      "cell_type": "markdown",
      "source": [
        "# Introduction to collections\n",
        "from collections import counter ->"
      ],
      "metadata": {
        "id": "z94qU3bE2ihR"
      }
    },
    {
      "cell_type": "code",
      "source": [
        "from collections import Counter\n",
        "\n",
        "print(Counter(sherlock.lower()))\n",
        "\n",
        "new_dict = dict(Counter(sherlock.lower()))\n",
        "\n"
      ],
      "metadata": {
        "colab": {
          "base_uri": "https://localhost:8080/"
        },
        "id": "Y0vEHgXi2MVp",
        "outputId": "dbf97bda-15ed-4280-feef-0c0b44d51515"
      },
      "execution_count": 77,
      "outputs": [
        {
          "output_type": "stream",
          "name": "stdout",
          "text": [
            "Counter({' ': 569, 'e': 257, 'a': 213, 'i': 211, 't': 206, 'o': 199, 's': 172, 'h': 161, 'n': 160, 'r': 114, 'd': 96, 'l': 87, 'c': 77, 'u': 77, 'm': 76, 'w': 61, 'f': 56, 'y': 51, ',': 46, 'g': 44, '.': 39, 'p': 38, 'b': 37, 'v': 32, 'k': 30, '\\n': 28, '“': 18, '”': 18, '-': 8, 'x': 6, '?': 4, 'j': 3, '!': 3, 'q': 2, '8': 2, '’': 2, '1': 1, '4': 1, '—': 1, '‘': 1})\n"
          ]
        }
      ]
    },
    {
      "cell_type": "code",
      "source": [
        "new_dict = {k:v for k,v in new_dict.items() if k.isalpha()}\n",
        "\n",
        "print(new_dict)\n",
        "\n",
        "L = [x**2 for x in range(1,11)]\n",
        "\n",
        "M = []\n",
        "for x in range(1,11):\n",
        "    M.append(x**2)"
      ],
      "metadata": {
        "colab": {
          "base_uri": "https://localhost:8080/"
        },
        "id": "gFXer3hE28gw",
        "outputId": "1539a9c5-be2c-475d-e544-95190867a42e"
      },
      "execution_count": 78,
      "outputs": [
        {
          "output_type": "stream",
          "name": "stdout",
          "text": [
            "{'m': 76, 'r': 114, 's': 172, 'h': 161, 'e': 257, 'l': 87, 'o': 199, 'c': 77, 'k': 30, 'w': 61, 'a': 213, 'u': 77, 'y': 51, 'v': 32, 't': 206, 'i': 211, 'n': 160, 'g': 44, 'p': 38, 'f': 56, 'q': 2, 'd': 96, 'b': 37, 'j': 3, 'x': 6}\n"
          ]
        }
      ]
    }
  ]
}