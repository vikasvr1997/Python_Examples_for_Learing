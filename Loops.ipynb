{
  "nbformat": 4,
  "nbformat_minor": 0,
  "metadata": {
    "colab": {
      "name": "Untitled2.ipynb",
      "provenance": [],
      "authorship_tag": "ABX9TyOYHH61nWw00eS/S4bsCM6D",
      "include_colab_link": true
    },
    "kernelspec": {
      "name": "python3",
      "display_name": "Python 3"
    },
    "language_info": {
      "name": "python"
    }
  },
  "cells": [
    {
      "cell_type": "markdown",
      "metadata": {
        "id": "view-in-github",
        "colab_type": "text"
      },
      "source": [
        "<a href=\"https://colab.research.google.com/github/vikasvr1997/Python_Examples_for_Learing/blob/main/Loops.ipynb\" target=\"_parent\"><img src=\"https://colab.research.google.com/assets/colab-badge.svg\" alt=\"Open In Colab\"/></a>"
      ]
    },
    {
      "cell_type": "markdown",
      "source": [
        "Working with Lists"
      ],
      "metadata": {
        "id": "g3e_44sKtcWS"
      }
    },
    {
      "cell_type": "code",
      "execution_count": 36,
      "metadata": {
        "id": "OdbIteoVj5qU"
      },
      "outputs": [],
      "source": [
        "data = [1,11,25,31,29,41,51,41]"
      ]
    },
    {
      "cell_type": "markdown",
      "source": [
        "Sorting Algorithm using 2 for loops\n",
        "\n",
        "data_copy = data[:]\n",
        "\n",
        "for i in range(len(data_copy)):-> first for loop says to go through the entire loop"
      ],
      "metadata": {
        "id": "LDyLuvqGt3Cg"
      }
    },
    {
      "cell_type": "markdown",
      "source": [
        "here the second loop acts such a way that each element is compared with next element and is swapped when first element is greater than second, changing the sign changes it ti accending to decending order"
      ],
      "metadata": {
        "id": "PlWIt3cAxE7L"
      }
    },
    {
      "cell_type": "markdown",
      "source": [
        "Reason we are using the -1 in the loop is when going htrough list list exceeds the no of elements in it and shows error so in order to see that the last element dosent exceed the len of limit we keep -1 after len()-i\n",
        "\n",
        "And we are using the value i as we go through the list for sorting the largest number is at the end and after going for another iteration we should ignore 51 and go with other elements for sorting"
      ],
      "metadata": {
        "id": "m2-TzV7Kxi7a"
      }
    },
    {
      "cell_type": "markdown",
      "source": [
        "**Bubble SORT**"
      ],
      "metadata": {
        "id": "XnYKR6uUzJgQ"
      }
    },
    {
      "cell_type": "code",
      "source": [
        "data_copy = data[:]\n",
        "print(len(data_copy))\n",
        "for i in range(len(data_copy)):\n",
        "  for j in range(0,len(data_copy)-i-1):\n",
        "    if data_copy[j] > data_copy[j+1]:\n",
        "      data_copy[j],data_copy[j+1] = data_copy[j+1],data_copy[j]\n",
        "print(data_copy)      \n",
        "\n"
      ],
      "metadata": {
        "colab": {
          "base_uri": "https://localhost:8080/"
        },
        "id": "gQrLx-VQtu2b",
        "outputId": "d07f8b10-3d37-404b-d57a-b43b3575d636"
      },
      "execution_count": 6,
      "outputs": [
        {
          "output_type": "stream",
          "name": "stdout",
          "text": [
            "8\n",
            "[1, 11, 25, 29, 31, 41, 41, 51]\n"
          ]
        }
      ]
    },
    {
      "cell_type": "markdown",
      "source": [
        "Instead we use pythons sorting function\n",
        "\n",
        "print(sorted(data))"
      ],
      "metadata": {
        "id": "pzAK1h5BzQGw"
      }
    },
    {
      "cell_type": "code",
      "source": [
        "x = sorted(data)\n",
        "print(x)"
      ],
      "metadata": {
        "colab": {
          "base_uri": "https://localhost:8080/"
        },
        "id": "1qbyT01KzePR",
        "outputId": "1d53f1f6-21c9-4bd2-ddf6-1253a380493a"
      },
      "execution_count": 7,
      "outputs": [
        {
          "output_type": "stream",
          "name": "stdout",
          "text": [
            "[1, 11, 25, 29, 31, 41, 41, 51]\n"
          ]
        }
      ]
    },
    {
      "cell_type": "markdown",
      "source": [
        "Some common list methods"
      ],
      "metadata": {
        "id": "BhXJb3Oi0LqM"
      }
    },
    {
      "cell_type": "code",
      "source": [
        "my_List = [23,54,36,48]"
      ],
      "metadata": {
        "id": "tes97VUm0NsN"
      },
      "execution_count": 37,
      "outputs": []
    },
    {
      "cell_type": "code",
      "source": [
        "#print(my_List.append(100))\n",
        "print(my_List)\n",
        "my_List.remove(100)\n",
        "print(my_List)"
      ],
      "metadata": {
        "colab": {
          "base_uri": "https://localhost:8080/"
        },
        "id": "NWvh87By0TU-",
        "outputId": "803d8940-76bc-4caa-87bc-5e3ee435f147"
      },
      "execution_count": 16,
      "outputs": [
        {
          "output_type": "stream",
          "name": "stdout",
          "text": [
            "[23, 54, 36, 48, 100, 100]\n",
            "[23, 54, 36, 48, 100]\n"
          ]
        }
      ]
    },
    {
      "cell_type": "markdown",
      "source": [
        "all other available methods for lists are append,copy,clear,count,extend,index,insert,pop,remove,reverse,"
      ],
      "metadata": {
        "id": "KfOOVZEM1Au6"
      }
    },
    {
      "cell_type": "code",
      "source": [
        "my_List.reverse()\n",
        "print(my_List)"
      ],
      "metadata": {
        "colab": {
          "base_uri": "https://localhost:8080/"
        },
        "id": "8IfVVUaR1TMb",
        "outputId": "8f6496b5-4613-42b7-8039-e87226209f85"
      },
      "execution_count": 17,
      "outputs": [
        {
          "output_type": "stream",
          "name": "stdout",
          "text": [
            "[100, 48, 36, 54, 23]\n"
          ]
        }
      ]
    },
    {
      "cell_type": "code",
      "source": [
        "my_List.extend([67,78,98,120])\n",
        "print(my_List)"
      ],
      "metadata": {
        "colab": {
          "base_uri": "https://localhost:8080/"
        },
        "id": "ifaOam3R1cgT",
        "outputId": "29a1a707-695e-45ed-f9a5-25f0c67c63a3"
      },
      "execution_count": 18,
      "outputs": [
        {
          "output_type": "stream",
          "name": "stdout",
          "text": [
            "[100, 48, 36, 54, 23, 67, 78, 98, 120]\n"
          ]
        }
      ]
    },
    {
      "cell_type": "code",
      "source": [
        "print(my_List.index(78))#provides the index of number"
      ],
      "metadata": {
        "colab": {
          "base_uri": "https://localhost:8080/"
        },
        "id": "tuud-uDa1nvx",
        "outputId": "111e50b1-6740-4884-9e05-9d374ea064b4"
      },
      "execution_count": 19,
      "outputs": [
        {
          "output_type": "stream",
          "name": "stdout",
          "text": [
            "6\n"
          ]
        }
      ]
    },
    {
      "cell_type": "code",
      "source": [
        "list_live = [27,48]\n",
        "print(my_List.copy())\n",
        "my_List.append(list_live)\n",
        "print(my_List)"
      ],
      "metadata": {
        "colab": {
          "base_uri": "https://localhost:8080/"
        },
        "id": "gv12aj6W1_BJ",
        "outputId": "9b42414f-58eb-41e3-e0cf-90285811d14b"
      },
      "execution_count": 30,
      "outputs": [
        {
          "output_type": "stream",
          "name": "stdout",
          "text": [
            "[100, 48, 36, 54, 23, 67, 78, 98, 120, [27], [27, 48], [27, 48], (27, 48)]\n",
            "[100, 48, 36, 54, 23, 67, 78, 98, 120, [27], [27, 48], [27, 48], (27, 48), [27, 48]]\n"
          ]
        }
      ]
    },
    {
      "cell_type": "code",
      "source": [
        "print(my_List.pop(2))# pop pops out one number from the lists\n",
        "print(my_List)"
      ],
      "metadata": {
        "colab": {
          "base_uri": "https://localhost:8080/"
        },
        "id": "7jYUQkSg3mXd",
        "outputId": "f38585fb-07bd-4065-cad9-62392e556497"
      },
      "execution_count": 35,
      "outputs": [
        {
          "output_type": "stream",
          "name": "stdout",
          "text": [
            "78\n",
            "[100, 48, 98, 120, [27], [27, 48], [27, 48], (27, 48), [27, 48]]\n"
          ]
        }
      ]
    },
    {
      "cell_type": "markdown",
      "source": [
        "**While Loop **\n",
        "Excercise file"
      ],
      "metadata": {
        "id": "S41lMtWN5FIe"
      }
    },
    {
      "cell_type": "markdown",
      "source": [
        "here the user input takes only positive ages and goes on asking for input until negative value is used"
      ],
      "metadata": {
        "id": "AOFfSkU15s9_"
      }
    },
    {
      "cell_type": "code",
      "source": [
        "user_input = int(input('Please enter ages of class member. Type -1 to end:>'))\n",
        "ages = []\n",
        "while user_input > 0:\n",
        "    ages.append(user_input)\n",
        "    user_input = int(input('The next age:>'))\n",
        "print('The ages are',ages)    \n"
      ],
      "metadata": {
        "colab": {
          "base_uri": "https://localhost:8080/"
        },
        "id": "rwVd1wrD4CM2",
        "outputId": "93514d97-0442-4b02-dfb3-87aaa6f0935f"
      },
      "execution_count": 38,
      "outputs": [
        {
          "output_type": "stream",
          "name": "stdout",
          "text": [
            "Please enter ages of class member. Type -1 to end:>2\n",
            "The next age:>4\n",
            "The next age:>5\n",
            "The next age:>6\n",
            "The next age:>12\n",
            "The next age:>6\n",
            "The next age:>9\n",
            "The next age:>-1\n",
            "The ages are [2, 4, 5, 6, 12, 6, 9]\n"
          ]
        }
      ]
    },
    {
      "cell_type": "markdown",
      "source": [
        "Here we are using a counter\"count = 0\" "
      ],
      "metadata": {
        "id": "6iKQReD26WCQ"
      }
    },
    {
      "cell_type": "code",
      "source": [
        "#Put a counter in a while loop\n",
        "\n",
        "count = 0\n",
        "class_names = []\n",
        "name = input('Please enter name type \\\"stop\\\" to stop:> ')\n",
        "while name != 'stop':\n",
        "    count +=1\n",
        "    class_names.append(name)\n",
        "    print(f'{name} has been added.')#here we use f(format function) which is the string given and it is given to \"{name}\" same for integers and we can try operations on these\n",
        "    name = input('Next name?:> ')\n",
        "    \n",
        "    \n",
        "print(f'There are {count} people in the class, they are {class_names}' )"
      ],
      "metadata": {
        "colab": {
          "base_uri": "https://localhost:8080/"
        },
        "id": "e365PHb-6H-I",
        "outputId": "36dac39a-5dee-49d4-d50a-45a1e4dce35a"
      },
      "execution_count": 43,
      "outputs": [
        {
          "output_type": "stream",
          "name": "stdout",
          "text": [
            "Please enter name type \"stop\" to stop:> vikas\n",
            "vikas has been added.\n",
            "Next name?:> ddy\n",
            "ddy has been added.\n",
            "Next name?:> mahsh\n",
            "mahsh has been added.\n",
            "Next name?:> stop\n",
            "There are 3 people in the class, they are ['vikas', 'ddy', 'mahsh']\n"
          ]
        }
      ]
    },
    {
      "cell_type": "markdown",
      "source": [
        "# Modulus"
      ],
      "metadata": {
        "id": "wKcL0KsM8uBJ"
      }
    },
    {
      "cell_type": "markdown",
      "source": [
        "modulus gives the remainder of the division of a number\n"
      ],
      "metadata": {
        "id": "NAw4OGMV8886"
      }
    },
    {
      "cell_type": "code",
      "source": [
        "var1= 21\n",
        "var2= 43\n",
        "var2 % var1"
      ],
      "metadata": {
        "colab": {
          "base_uri": "https://localhost:8080/"
        },
        "id": "Cx58RscI8x0J",
        "outputId": "d40ce045-6d37-4149-bd87-244d6bd55f8e"
      },
      "execution_count": 45,
      "outputs": [
        {
          "output_type": "execute_result",
          "data": {
            "text/plain": [
              "1"
            ]
          },
          "metadata": {},
          "execution_count": 45
        }
      ]
    },
    {
      "cell_type": "markdown",
      "source": [
        "FizzBuzz Challenge\n",
        "if num%3 then Fizz, if by 5 then Buzz and if divided by both then FizzBuzz"
      ],
      "metadata": {
        "id": "yl_7pipb9fz3"
      }
    },
    {
      "cell_type": "code",
      "source": [
        "n = 100\n",
        "for i in range(1,n+1):\n",
        "  if i % 3 == 0 and i % 5 ==0:\n",
        "    print(i,'= Fizzbuzz',end =\",  \")\n",
        "  elif i % 5:\n",
        "    print(i,\"= Buzz\", end=\",  \")\n",
        "  elif i % 3 == 0:\n",
        "    print(i,\"= FIZZ\",end = \",  \")\n",
        "  else :\n",
        "    print(i)\n"
      ],
      "metadata": {
        "colab": {
          "base_uri": "https://localhost:8080/"
        },
        "id": "11FLLncy9fO9",
        "outputId": "d32d6806-0870-4ac7-e998-b800e7b96bc0"
      },
      "execution_count": 52,
      "outputs": [
        {
          "output_type": "stream",
          "name": "stdout",
          "text": [
            "1 = Buzz,  2 = Buzz,  3 = Buzz,  4 = Buzz,  5\n",
            "6 = Buzz,  7 = Buzz,  8 = Buzz,  9 = Buzz,  10\n",
            "11 = Buzz,  12 = Buzz,  13 = Buzz,  14 = Buzz,  15 = Fizzbuzz,  16 = Buzz,  17 = Buzz,  18 = Buzz,  19 = Buzz,  20\n",
            "21 = Buzz,  22 = Buzz,  23 = Buzz,  24 = Buzz,  25\n",
            "26 = Buzz,  27 = Buzz,  28 = Buzz,  29 = Buzz,  30 = Fizzbuzz,  31 = Buzz,  32 = Buzz,  33 = Buzz,  34 = Buzz,  35\n",
            "36 = Buzz,  37 = Buzz,  38 = Buzz,  39 = Buzz,  40\n",
            "41 = Buzz,  42 = Buzz,  43 = Buzz,  44 = Buzz,  45 = Fizzbuzz,  46 = Buzz,  47 = Buzz,  48 = Buzz,  49 = Buzz,  50\n",
            "51 = Buzz,  52 = Buzz,  53 = Buzz,  54 = Buzz,  55\n",
            "56 = Buzz,  57 = Buzz,  58 = Buzz,  59 = Buzz,  60 = Fizzbuzz,  61 = Buzz,  62 = Buzz,  63 = Buzz,  64 = Buzz,  65\n",
            "66 = Buzz,  67 = Buzz,  68 = Buzz,  69 = Buzz,  70\n",
            "71 = Buzz,  72 = Buzz,  73 = Buzz,  74 = Buzz,  75 = Fizzbuzz,  76 = Buzz,  77 = Buzz,  78 = Buzz,  79 = Buzz,  80\n",
            "81 = Buzz,  82 = Buzz,  83 = Buzz,  84 = Buzz,  85\n",
            "86 = Buzz,  87 = Buzz,  88 = Buzz,  89 = Buzz,  90 = Fizzbuzz,  91 = Buzz,  92 = Buzz,  93 = Buzz,  94 = Buzz,  95\n",
            "96 = Buzz,  97 = Buzz,  98 = Buzz,  99 = Buzz,  100\n"
          ]
        }
      ]
    },
    {
      "cell_type": "markdown",
      "source": [
        "above numbers are in order if you wont follow order then the below sequence happens "
      ],
      "metadata": {
        "id": "sa_GVALg_WZV"
      }
    },
    {
      "cell_type": "code",
      "source": [
        "n = 100\n",
        "for i in range(1,n+1):\n",
        "  if i % 3 == 0:\n",
        "    print(i,\"= FIZZ\",end = \",  \") \n",
        "  elif i % 5 == 0:\n",
        "    print(i,\"= Buzz\", end=\",  \")\n",
        "  elif i % 3 == 0 and i % 5 == 0:\n",
        "    print(i,'= Fizzbuzz',end =\",  \")\n",
        "  else :\n",
        "    print(i)"
      ],
      "metadata": {
        "colab": {
          "base_uri": "https://localhost:8080/"
        },
        "id": "0GnzMrc6_bPG",
        "outputId": "e21b7cd7-75ea-42cb-8572-8c8659d183e7"
      },
      "execution_count": 56,
      "outputs": [
        {
          "output_type": "stream",
          "name": "stdout",
          "text": [
            "1\n",
            "2\n",
            "3 = FIZZ,  4\n",
            "5 = Buzz,  6 = FIZZ,  7\n",
            "8\n",
            "9 = FIZZ,  10 = Buzz,  11\n",
            "12 = FIZZ,  13\n",
            "14\n",
            "15 = FIZZ,  16\n",
            "17\n",
            "18 = FIZZ,  19\n",
            "20 = Buzz,  21 = FIZZ,  22\n",
            "23\n",
            "24 = FIZZ,  25 = Buzz,  26\n",
            "27 = FIZZ,  28\n",
            "29\n",
            "30 = FIZZ,  31\n",
            "32\n",
            "33 = FIZZ,  34\n",
            "35 = Buzz,  36 = FIZZ,  37\n",
            "38\n",
            "39 = FIZZ,  40 = Buzz,  41\n",
            "42 = FIZZ,  43\n",
            "44\n",
            "45 = FIZZ,  46\n",
            "47\n",
            "48 = FIZZ,  49\n",
            "50 = Buzz,  51 = FIZZ,  52\n",
            "53\n",
            "54 = FIZZ,  55 = Buzz,  56\n",
            "57 = FIZZ,  58\n",
            "59\n",
            "60 = FIZZ,  61\n",
            "62\n",
            "63 = FIZZ,  64\n",
            "65 = Buzz,  66 = FIZZ,  67\n",
            "68\n",
            "69 = FIZZ,  70 = Buzz,  71\n",
            "72 = FIZZ,  73\n",
            "74\n",
            "75 = FIZZ,  76\n",
            "77\n",
            "78 = FIZZ,  79\n",
            "80 = Buzz,  81 = FIZZ,  82\n",
            "83\n",
            "84 = FIZZ,  85 = Buzz,  86\n",
            "87 = FIZZ,  88\n",
            "89\n",
            "90 = FIZZ,  91\n",
            "92\n",
            "93 = FIZZ,  94\n",
            "95 = Buzz,  96 = FIZZ,  97\n",
            "98\n",
            "99 = FIZZ,  100 = Buzz,  "
          ]
        }
      ]
    },
    {
      "cell_type": "code",
      "source": [
        "print(list(range(0,11,2)))"
      ],
      "metadata": {
        "colab": {
          "base_uri": "https://localhost:8080/"
        },
        "id": "axZjZw7tATMO",
        "outputId": "dab72e06-e8f9-47dd-e304-01f31f10faa4"
      },
      "execution_count": 57,
      "outputs": [
        {
          "output_type": "stream",
          "name": "stdout",
          "text": [
            "[0, 2, 4, 6, 8, 10]\n"
          ]
        }
      ]
    }
  ]
}