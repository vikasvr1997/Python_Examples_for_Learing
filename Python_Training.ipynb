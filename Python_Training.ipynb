{
  "nbformat": 4,
  "nbformat_minor": 0,
  "metadata": {
    "colab": {
      "name": "Python_Training.ipynb",
      "provenance": [],
      "authorship_tag": "ABX9TyOAdD12tTUaHXccswtRu09F",
      "include_colab_link": true
    },
    "kernelspec": {
      "name": "python3",
      "display_name": "Python 3"
    },
    "language_info": {
      "name": "python"
    }
  },
  "cells": [
    {
      "cell_type": "markdown",
      "metadata": {
        "id": "view-in-github",
        "colab_type": "text"
      },
      "source": [
        "<a href=\"https://colab.research.google.com/github/vikasvr1997/Python_Examples_for_Learing/blob/main/Python_Training.ipynb\" target=\"_parent\"><img src=\"https://colab.research.google.com/assets/colab-badge.svg\" alt=\"Open In Colab\"/></a>"
      ]
    },
    {
      "cell_type": "code",
      "execution_count": null,
      "metadata": {
        "id": "9UVaxp2_D0QL",
        "colab": {
          "base_uri": "https://localhost:8080/"
        },
        "outputId": "307e820a-27ce-4e8b-be9d-a4809b85e2e1"
      },
      "outputs": [
        {
          "output_type": "stream",
          "name": "stdout",
          "text": [
            "Hello World\n"
          ]
        }
      ],
      "source": [
        "s=\"Hello World\" \n",
        "print(s)"
      ]
    },
    {
      "cell_type": "code",
      "source": [
        "s=int(input())\n",
        "print(\"s={}\".format(s))"
      ],
      "metadata": {
        "colab": {
          "base_uri": "https://localhost:8080/"
        },
        "id": "wh_Q2qG2EJ-5",
        "outputId": "52b46082-b58d-49c8-e7d4-2ad0bf1a6a98"
      },
      "execution_count": null,
      "outputs": [
        {
          "output_type": "stream",
          "name": "stdout",
          "text": [
            "9\n",
            "s=9\n"
          ]
        }
      ]
    },
    {
      "cell_type": "markdown",
      "source": [
        "Control Statements:\n",
        "conditional Statements:if,elseif(elif),else.\n",
        "Looping Statements: for,while"
      ],
      "metadata": {
        "id": "hhMcOwamF3sU"
      }
    },
    {
      "cell_type": "markdown",
      "source": [
        "Conditional Statements: examples."
      ],
      "metadata": {
        "id": "gL7ZcqpVGMPq"
      }
    },
    {
      "cell_type": "code",
      "source": [
        "def fun_name():\n",
        "  a=10\n",
        "  b=20\n",
        "  if a == b or a > b :\n",
        "    print(\"a is the largest with value {}\".format(a))\n",
        "  else:\n",
        "    print(\"B is the largest with value {}\".format(b))\n",
        "fun_name()"
      ],
      "metadata": {
        "colab": {
          "base_uri": "https://localhost:8080/"
        },
        "id": "ShMLK1ZFEz63",
        "outputId": "88f7d27f-fffb-488d-806a-492e09bd6260"
      },
      "execution_count": null,
      "outputs": [
        {
          "output_type": "stream",
          "name": "stdout",
          "text": [
            "B is the largest with value 20\n"
          ]
        }
      ]
    },
    {
      "cell_type": "code",
      "source": [
        "def fun_name():\n",
        "  a=10\n",
        "  b=20\n",
        "  if a == b or a > b :\n",
        "    print(\"a is the largest with value {}\".format(a))\n",
        "  elif a < b:\n",
        "    print(\"B is the largest with value {}\".format(b))\n",
        "  else :\n",
        "    print(\"None of the above\")\n",
        "fun_name()"
      ],
      "metadata": {
        "colab": {
          "base_uri": "https://localhost:8080/"
        },
        "id": "vAr0HHMNRwDG",
        "outputId": "abec4a40-e98f-4955-908d-2dc2da3c565e"
      },
      "execution_count": null,
      "outputs": [
        {
          "output_type": "stream",
          "name": "stdout",
          "text": [
            "B is the largest with value 20\n"
          ]
        }
      ]
    },
    {
      "cell_type": "code",
      "source": [
        "import numpy as np"
      ],
      "metadata": {
        "id": "BdGvhtZXtt1G"
      },
      "execution_count": 1,
      "outputs": []
    },
    {
      "cell_type": "code",
      "source": [
        "a = np.array([1,2,3,4])\n",
        "print(a)"
      ],
      "metadata": {
        "id": "AJpDzSKytzvl",
        "outputId": "c47991c9-759f-4c26-979d-ecaafe737ea5",
        "colab": {
          "base_uri": "https://localhost:8080/"
        }
      },
      "execution_count": 2,
      "outputs": [
        {
          "output_type": "stream",
          "name": "stdout",
          "text": [
            "[1 2 3 4]\n"
          ]
        }
      ]
    },
    {
      "cell_type": "code",
      "source": [
        "b = np.array([[9,2,4,5],[1,4,2,3],[2,3,4,5]])\n",
        "print(b)"
      ],
      "metadata": {
        "id": "mYjhvNb2uDFx",
        "outputId": "fd44d99b-d114-4353-d3d5-2d28fd660e4a",
        "colab": {
          "base_uri": "https://localhost:8080/"
        }
      },
      "execution_count": 5,
      "outputs": [
        {
          "output_type": "stream",
          "name": "stdout",
          "text": [
            "[[9 2 4 5]\n",
            " [1 4 2 3]\n",
            " [2 3 4 5]]\n"
          ]
        }
      ]
    },
    {
      "cell_type": "code",
      "source": [
        "b.ndim"
      ],
      "metadata": {
        "id": "dtr9pRqruhyE",
        "outputId": "3bd74153-e792-4ca7-d1a6-ec0854a089e7",
        "colab": {
          "base_uri": "https://localhost:8080/"
        }
      },
      "execution_count": 7,
      "outputs": [
        {
          "output_type": "execute_result",
          "data": {
            "text/plain": [
              "2"
            ]
          },
          "metadata": {},
          "execution_count": 7
        }
      ]
    },
    {
      "cell_type": "code",
      "source": [
        "b.shape"
      ],
      "metadata": {
        "id": "NWs7XXSkuuQK",
        "outputId": "b9286521-6123-49e2-ccfd-68b040009ff8",
        "colab": {
          "base_uri": "https://localhost:8080/"
        }
      },
      "execution_count": 9,
      "outputs": [
        {
          "output_type": "execute_result",
          "data": {
            "text/plain": [
              "(3, 4)"
            ]
          },
          "metadata": {},
          "execution_count": 9
        }
      ]
    },
    {
      "cell_type": "code",
      "source": [
        "a.itemsize"
      ],
      "metadata": {
        "id": "FUc9T9ryu6cO",
        "outputId": "91d02d2a-4bd2-4b14-95e4-16d062acce83",
        "colab": {
          "base_uri": "https://localhost:8080/"
        }
      },
      "execution_count": 10,
      "outputs": [
        {
          "output_type": "execute_result",
          "data": {
            "text/plain": [
              "8"
            ]
          },
          "metadata": {},
          "execution_count": 10
        }
      ]
    },
    {
      "cell_type": "code",
      "source": [
        "#get total size\n",
        "a.nbytes\n",
        "b.size"
      ],
      "metadata": {
        "id": "ctVTOtRUvCOv",
        "outputId": "eb856672-e2ac-47ba-d4dc-bb7170b8b3b9",
        "colab": {
          "base_uri": "https://localhost:8080/"
        }
      },
      "execution_count": 13,
      "outputs": [
        {
          "output_type": "execute_result",
          "data": {
            "text/plain": [
              "12"
            ]
          },
          "metadata": {},
          "execution_count": 13
        }
      ]
    },
    {
      "cell_type": "code",
      "source": [
        "z=np.array([[1,2,3,4,5,6,7],[2,3,4,5,6,7,8]])\n",
        "print(z)"
      ],
      "metadata": {
        "id": "Mva_NW5hvVY8",
        "outputId": "2d9f167f-d359-42ca-f938-d3fb6bea46d5",
        "colab": {
          "base_uri": "https://localhost:8080/"
        }
      },
      "execution_count": 15,
      "outputs": [
        {
          "output_type": "stream",
          "name": "stdout",
          "text": [
            "[[1 2 3 4 5 6 7]\n",
            " [2 3 4 5 6 7 8]]\n"
          ]
        }
      ]
    },
    {
      "cell_type": "code",
      "source": [
        "#get specific element [r,c]\n",
        "z[0,5]"
      ],
      "metadata": {
        "id": "N8qrnTD5vVJ3",
        "outputId": "396aaa6e-0814-481d-eca9-81d9dd22b96b",
        "colab": {
          "base_uri": "https://localhost:8080/"
        }
      },
      "execution_count": 17,
      "outputs": [
        {
          "output_type": "execute_result",
          "data": {
            "text/plain": [
              "6"
            ]
          },
          "metadata": {},
          "execution_count": 17
        }
      ]
    },
    {
      "cell_type": "code",
      "source": [
        "z[0,-2]"
      ],
      "metadata": {
        "id": "pzr6JicGvUYo",
        "outputId": "5daf76be-d6a5-43ca-d434-92e4e082ee76",
        "colab": {
          "base_uri": "https://localhost:8080/"
        }
      },
      "execution_count": 18,
      "outputs": [
        {
          "output_type": "execute_result",
          "data": {
            "text/plain": [
              "6"
            ]
          },
          "metadata": {},
          "execution_count": 18
        }
      ]
    },
    {
      "cell_type": "code",
      "source": [
        "#gwet a specific row\n",
        "z[:,0]   # : gets all rows o,1,2 columns"
      ],
      "metadata": {
        "id": "VK8rVQLBv39E",
        "outputId": "54df2ded-c43e-47ce-e2c0-df1bebeb6e3a",
        "colab": {
          "base_uri": "https://localhost:8080/"
        }
      },
      "execution_count": 21,
      "outputs": [
        {
          "output_type": "execute_result",
          "data": {
            "text/plain": [
              "array([1, 2])"
            ]
          },
          "metadata": {},
          "execution_count": 21
        }
      ]
    },
    {
      "cell_type": "code",
      "source": [
        "#getting a littkle more fancy[startindex:end:stepsize]\n",
        "print(z[0,1:6:2])\n",
        "\n"
      ],
      "metadata": {
        "id": "b7244im9v3wf",
        "outputId": "8ab28cd1-db57-49bc-c1fb-2e6d7df05bf1",
        "colab": {
          "base_uri": "https://localhost:8080/"
        }
      },
      "execution_count": 27,
      "outputs": [
        {
          "output_type": "stream",
          "name": "stdout",
          "text": [
            "[2 4 6]\n",
            "[]\n"
          ]
        }
      ]
    },
    {
      "cell_type": "code",
      "source": [
        "print(z[0,1:-2:2])# first element :last element: jumping no"
      ],
      "metadata": {
        "id": "-UCBSgKBv3n-",
        "outputId": "fc2823e3-2051-401d-b219-9bf934e5d243",
        "colab": {
          "base_uri": "https://localhost:8080/"
        }
      },
      "execution_count": 31,
      "outputs": [
        {
          "output_type": "stream",
          "name": "stdout",
          "text": [
            "[2 4]\n"
          ]
        }
      ]
    },
    {
      "cell_type": "code",
      "source": [
        "z[1,2]=20\n",
        "print(z)"
      ],
      "metadata": {
        "id": "ThK97GC9v3TS",
        "outputId": "473ed22a-c194-4c15-fd57-09607b8957bc",
        "colab": {
          "base_uri": "https://localhost:8080/"
        }
      },
      "execution_count": 33,
      "outputs": [
        {
          "output_type": "stream",
          "name": "stdout",
          "text": [
            "[[ 1  2  3  4  5  6  7]\n",
            " [ 2  3 20  5  6  7  8]]\n"
          ]
        }
      ]
    },
    {
      "cell_type": "code",
      "source": [
        "z[1,:]=1\n",
        "print(z)"
      ],
      "metadata": {
        "id": "IzHG1i5hv2c_",
        "outputId": "f592480e-65aa-444b-c3b8-98b91d758836",
        "colab": {
          "base_uri": "https://localhost:8080/"
        }
      },
      "execution_count": 36,
      "outputs": [
        {
          "output_type": "stream",
          "name": "stdout",
          "text": [
            "[[1 2 3 4 5 6 7]\n",
            " [1 1 1 1 1 1 1]]\n"
          ]
        }
      ]
    },
    {
      "cell_type": "code",
      "source": [
        "z[1,:1] = [1]\n",
        "print(z)"
      ],
      "metadata": {
        "id": "HPS_ZnoizwES",
        "outputId": "40bfa55c-4218-4726-d450-67c882dee435",
        "colab": {
          "base_uri": "https://localhost:8080/"
        }
      },
      "execution_count": 39,
      "outputs": [
        {
          "output_type": "stream",
          "name": "stdout",
          "text": [
            "[[1 2 3 4 5 6 7]\n",
            " [1 1 1 1 1 1 1]]\n"
          ]
        }
      ]
    },
    {
      "cell_type": "code",
      "source": [
        "#3D Example\n",
        "b=np.array([[[1,2,3],[2,3,4]],[[5,6,0],[7,8,9]]]) \n",
        "print(b)"
      ],
      "metadata": {
        "id": "niyVPCzqzv-Y",
        "outputId": "d8d2d17c-07ec-42e9-e685-e5fc9f7495bd",
        "colab": {
          "base_uri": "https://localhost:8080/"
        }
      },
      "execution_count": 40,
      "outputs": [
        {
          "output_type": "stream",
          "name": "stdout",
          "text": [
            "[[[1 2 3]\n",
            "  [2 3 4]]\n",
            "\n",
            " [[5 6 0]\n",
            "  [7 8 9]]]\n"
          ]
        }
      ]
    },
    {
      "cell_type": "code",
      "source": [
        "#3 to get an specific element in a matrix use arrayname[array list 1,row no,colno]\n",
        "b[0,1,2]"
      ],
      "metadata": {
        "id": "02ifCPC3zv22",
        "outputId": "4393e5c0-68ec-4ed4-a3ee-7e6731ef2548",
        "colab": {
          "base_uri": "https://localhost:8080/"
        }
      },
      "execution_count": 41,
      "outputs": [
        {
          "output_type": "execute_result",
          "data": {
            "text/plain": [
              "4"
            ]
          },
          "metadata": {},
          "execution_count": 41
        }
      ]
    },
    {
      "cell_type": "code",
      "source": [
        ""
      ],
      "metadata": {
        "id": "F_VyK1nCzvwS"
      },
      "execution_count": null,
      "outputs": []
    },
    {
      "cell_type": "markdown",
      "source": [
        "initialize all diff types of arrays"
      ],
      "metadata": {
        "id": "1Ugu9sUe3ZzL"
      }
    },
    {
      "cell_type": "code",
      "source": [
        "arr = np.array([[1],[2],[3],[4],[5]])\n",
        "r1 = np.repeat(arr, 5, axis=1)\n",
        "print(r1)"
      ],
      "metadata": {
        "id": "tcFcbdEp3fPp",
        "outputId": "a4c4e724-5ac2-4e95-fe69-ad650380ac49",
        "colab": {
          "base_uri": "https://localhost:8080/"
        }
      },
      "execution_count": 59,
      "outputs": [
        {
          "output_type": "stream",
          "name": "stdout",
          "text": [
            "[[1 1 1 1 1]\n",
            " [2 2 2 2 2]\n",
            " [3 3 3 3 3]\n",
            " [4 4 4 4 4]\n",
            " [5 5 5 5 5]]\n"
          ]
        }
      ]
    },
    {
      "cell_type": "code",
      "source": [
        "output = np.ones((5,5))\n",
        "print(output)\n",
        "\n",
        "z=np.zeros((3,3))\n",
        "z[1,1] = 9\n",
        "print(z)\n",
        "output[1:4,1:4] = z\n",
        "print(output)"
      ],
      "metadata": {
        "id": "fm-GdM7Z6uxg",
        "outputId": "0b8d5ce0-6850-49a7-fe09-d493b1a9184b",
        "colab": {
          "base_uri": "https://localhost:8080/"
        }
      },
      "execution_count": 60,
      "outputs": [
        {
          "output_type": "stream",
          "name": "stdout",
          "text": [
            "[[1. 1. 1. 1. 1.]\n",
            " [1. 1. 1. 1. 1.]\n",
            " [1. 1. 1. 1. 1.]\n",
            " [1. 1. 1. 1. 1.]\n",
            " [1. 1. 1. 1. 1.]]\n",
            "[[0. 0. 0.]\n",
            " [0. 9. 0.]\n",
            " [0. 0. 0.]]\n",
            "[[1. 1. 1. 1. 1.]\n",
            " [1. 0. 0. 0. 1.]\n",
            " [1. 0. 9. 0. 1.]\n",
            " [1. 0. 0. 0. 1.]\n",
            " [1. 1. 1. 1. 1.]]\n"
          ]
        }
      ]
    },
    {
      "cell_type": "code",
      "source": [
        ""
      ],
      "metadata": {
        "id": "ivo7sIU-5W_c"
      },
      "execution_count": null,
      "outputs": []
    }
  ]
}