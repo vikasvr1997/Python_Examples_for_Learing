{
  "nbformat": 4,
  "nbformat_minor": 0,
  "metadata": {
    "colab": {
      "name": "Python_Training.ipynb",
      "provenance": [],
      "authorship_tag": "ABX9TyPLs24XE+C7nyzp9BJGB50F",
      "include_colab_link": true
    },
    "kernelspec": {
      "name": "python3",
      "display_name": "Python 3"
    },
    "language_info": {
      "name": "python"
    }
  },
  "cells": [
    {
      "cell_type": "markdown",
      "metadata": {
        "id": "view-in-github",
        "colab_type": "text"
      },
      "source": [
        "<a href=\"https://colab.research.google.com/github/vikasvr1997/Python_Examples_for_Learing/blob/main/Python_Training.ipynb\" target=\"_parent\"><img src=\"https://colab.research.google.com/assets/colab-badge.svg\" alt=\"Open In Colab\"/></a>"
      ]
    },
    {
      "cell_type": "code",
      "execution_count": 8,
      "metadata": {
        "id": "9UVaxp2_D0QL",
        "colab": {
          "base_uri": "https://localhost:8080/"
        },
        "outputId": "307e820a-27ce-4e8b-be9d-a4809b85e2e1"
      },
      "outputs": [
        {
          "output_type": "stream",
          "name": "stdout",
          "text": [
            "Hello World\n"
          ]
        }
      ],
      "source": [
        "s=\"Hello World\" \n",
        "print(s)"
      ]
    },
    {
      "cell_type": "code",
      "source": [
        "s=int(input())\n",
        "print(\"s={}\".format(s))"
      ],
      "metadata": {
        "colab": {
          "base_uri": "https://localhost:8080/"
        },
        "id": "wh_Q2qG2EJ-5",
        "outputId": "52b46082-b58d-49c8-e7d4-2ad0bf1a6a98"
      },
      "execution_count": null,
      "outputs": [
        {
          "output_type": "stream",
          "name": "stdout",
          "text": [
            "9\n",
            "s=9\n"
          ]
        }
      ]
    },
    {
      "cell_type": "markdown",
      "source": [
        "Control Statements:\n",
        "conditional Statements:if,elseif(elif),else.\n",
        "Looping Statements: for,while"
      ],
      "metadata": {
        "id": "hhMcOwamF3sU"
      }
    },
    {
      "cell_type": "markdown",
      "source": [
        "Conditional Statements: examples."
      ],
      "metadata": {
        "id": "gL7ZcqpVGMPq"
      }
    },
    {
      "cell_type": "code",
      "source": [
        "def fun_name():\n",
        "  a=10\n",
        "  b=20\n",
        "  if a == b or a > b :\n",
        "    print(\"a is the largest with value {}\".format(a))\n",
        "  else:\n",
        "    print(\"B is the largest with value {}\".format(b))\n",
        "fun_name()"
      ],
      "metadata": {
        "colab": {
          "base_uri": "https://localhost:8080/"
        },
        "id": "ShMLK1ZFEz63",
        "outputId": "88f7d27f-fffb-488d-806a-492e09bd6260"
      },
      "execution_count": null,
      "outputs": [
        {
          "output_type": "stream",
          "name": "stdout",
          "text": [
            "B is the largest with value 20\n"
          ]
        }
      ]
    },
    {
      "cell_type": "code",
      "source": [
        "def fun_name():\n",
        "  a=10\n",
        "  b=20\n",
        "  if a == b or a > b :\n",
        "    print(\"a is the largest with value {}\".format(a))\n",
        "  elif a < b:\n",
        "    print(\"B is the largest with value {}\".format(b))\n",
        "  else :\n",
        "    print(\"None of the above\")\n",
        "fun_name()"
      ],
      "metadata": {
        "colab": {
          "base_uri": "https://localhost:8080/"
        },
        "id": "vAr0HHMNRwDG",
        "outputId": "abec4a40-e98f-4955-908d-2dc2da3c565e"
      },
      "execution_count": 4,
      "outputs": [
        {
          "output_type": "stream",
          "name": "stdout",
          "text": [
            "B is the largest with value 20\n"
          ]
        }
      ]
    }
  ]
}